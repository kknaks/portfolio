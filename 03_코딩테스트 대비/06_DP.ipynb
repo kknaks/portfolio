{
 "cells": [
  {
   "cell_type": "code",
   "execution_count": 6,
   "metadata": {},
   "outputs": [
    {
     "data": {
      "text/plain": [
       "[[1, 4, 7, 9], [2, 8, 12, 13], [0, 8, 12, 19]]"
      ]
     },
     "execution_count": 6,
     "metadata": {},
     "output_type": "execute_result"
    }
   ],
   "source": [
    "n,m =3,4\n",
    "mine = [[1, 3, 3, 2], [2, 1, 4, 1], [0, 6, 4, 7]]\n",
    "\n",
    "for i in range(1,m):\n",
    "    for j in range(n):\n",
    "        if j ==0:\n",
    "            up = 0 \n",
    "        else: \n",
    "            up = mine[j-1][i-1]\n",
    "        if j == n-1:\n",
    "            down = 0\n",
    "        else:\n",
    "            down  = mine[j+1][-1]\n",
    "        left = mine[j][i-1]\n",
    "        mine[j][i] = mine[j][i] + max(up,left,down)\n",
    "mine\n"
   ]
  },
  {
   "cell_type": "code",
   "execution_count": 14,
   "metadata": {},
   "outputs": [
    {
     "data": {
      "text/plain": [
       "[[7], [10, 15], [18, 16, 15], [20, 25, 20, 19], [24, 30, 27, 26, 24]]"
      ]
     },
     "execution_count": 14,
     "metadata": {},
     "output_type": "execute_result"
    }
   ],
   "source": [
    "n = 5 \n",
    "tri = [[7],[3,8],[8,1,0],[2,7,4,4],[4,5,2,6,5]]\n",
    "\n",
    "for i in range(1,n):\n",
    "    for j in range(i+1):\n",
    "        if j == 0:\n",
    "            left = 0\n",
    "        else :\n",
    "            left = tri[i-1][j-1]\n",
    "        if j == i:\n",
    "            right = 0 \n",
    "        else:\n",
    "            right = tri[i-1][j]\n",
    "        tri[i][j] = tri[i][j] + max(left,right)\n",
    "tri\n"
   ]
  },
  {
   "cell_type": "code",
   "execution_count": 25,
   "metadata": {},
   "outputs": [
    {
     "name": "stdout",
     "output_type": "stream",
     "text": [
      "8 7 6 [0, 0, 0, 0, 0, 0, 0]\n",
      "9 7 5 [0, 0, 0, 0, 0, 0, 0]\n",
      "6 7 4 [0, 0, 0, 0, 0, 0, 0]\n",
      "4 7 3 [0, 0, 0, 0, 15, 0, 0]\n",
      "3 7 2 [0, 0, 0, 35, 15, 0, 0]\n",
      "6 7 1 [0, 0, 45, 35, 15, 0, 0]\n",
      "3 7 0 [0, 45, 45, 35, 15, 0, 0]\n"
     ]
    },
    {
     "data": {
      "text/plain": [
       "[45, 45, 45, 35, 15, 0, 0]"
      ]
     },
     "execution_count": 25,
     "metadata": {},
     "output_type": "execute_result"
    }
   ],
   "source": [
    "n = 7 \n",
    "t = [3,5,1,1,2,4,2]\n",
    "p = [10,20,10,20,15,40,200]\n",
    "dp = [0] * n \n",
    "max_value = 0 \n",
    "for i in range(n-1,-1,-1):\n",
    "    end_time = i + t[i]\n",
    "    print(end_time,n,i,dp)\n",
    "    if end_time <=n:\n",
    "        dp[i] = max(p[i]+dp[end_time],max_value)\n",
    "        max_value = dp[i]\n",
    "    else: \n",
    "        dp[i] = max_value\n",
    "dp"
   ]
  },
  {
   "cell_type": "code",
   "execution_count": 30,
   "metadata": {},
   "outputs": [
    {
     "data": {
      "text/plain": [
       "[1, 1, 2, 3, 3, 4, 5, 6]"
      ]
     },
     "execution_count": 30,
     "metadata": {},
     "output_type": "execute_result"
    }
   ],
   "source": [
    "arr = [15,11,7,6,8,5,2,4]\n",
    "n = len(arr)\n",
    "dp = [1]*n\n",
    "\n",
    "arr.reverse()\n",
    "for i in range(1,n):\n",
    "    for j in range(i):\n",
    "       if arr[i]>arr[j]:\n",
    "           dp[i] = max(dp[i],dp[j]+1)\n",
    "dp"
   ]
  },
  {
   "cell_type": "code",
   "execution_count": 35,
   "metadata": {},
   "outputs": [
    {
     "data": {
      "text/plain": [
       "[1, 2, 0, 0, 0, 0, 0, 0, 0, 0, 0, 0, 0, 0, 0]"
      ]
     },
     "execution_count": 35,
     "metadata": {},
     "output_type": "execute_result"
    }
   ],
   "source": [
    "dp = [0] * 15\n",
    "dp[0] = 1 \n",
    "dp[1] = 2\n",
    "dp"
   ]
  },
  {
   "cell_type": "markdown",
   "metadata": {},
   "source": []
  }
 ],
 "metadata": {
  "kernelspec": {
   "display_name": "Python 3",
   "language": "python",
   "name": "python3"
  },
  "language_info": {
   "codemirror_mode": {
    "name": "ipython",
    "version": 3
   },
   "file_extension": ".py",
   "mimetype": "text/x-python",
   "name": "python",
   "nbconvert_exporter": "python",
   "pygments_lexer": "ipython3",
   "version": "3.9.6"
  }
 },
 "nbformat": 4,
 "nbformat_minor": 2
}
