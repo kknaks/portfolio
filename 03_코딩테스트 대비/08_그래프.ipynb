{
 "cells": [
  {
   "cell_type": "markdown",
   "metadata": {},
   "source": [
    "# 교재 문제"
   ]
  },
  {
   "cell_type": "markdown",
   "metadata": {},
   "source": [
    "## 팀결성\n",
    "- 학교에서 학생들에게 0번 부터 n번까지의 번호를 부여했다. 처음에는 모든 학생이 서로다른 팀으로 구분되어, 총 N+1개의 팀이 존재한다. 이때 선생님은 '팀 합치기'연산과' 같은팀 여부 확인 연산'을 사용할수 있다.\n",
    "  - 팀 합치기는 연산은 두팀을 합치는 연산이다.\n",
    "  - 같은 팀 여부 확인 연산은 특정한 두 학생이 같은 팀에 속하는지를 확인하는 연산이다. \n",
    "- 선생님인 M개의 연산을 수행 할 수 있을때, 같은 팀여부 확인 연산에 대한 연산결과를 출력하는 프로그램을 작성하시오."
   ]
  },
  {
   "cell_type": "code",
   "execution_count": 5,
   "metadata": {},
   "outputs": [
    {
     "name": "stdout",
     "output_type": "stream",
     "text": [
      "No\n",
      "No\n",
      "Yes\n"
     ]
    }
   ],
   "source": [
    "n,t = 7, 8\n",
    "command = [\n",
    "    [0,1,3],\n",
    "    [1,1,7],\n",
    "    [0,7,6],\n",
    "    [1,7,1],\n",
    "    [0,3,7],\n",
    "    [0,4,2],\n",
    "    [0,1,1],\n",
    "    [1,1,1]\n",
    "]\n",
    "def find_parent(parent,x):\n",
    "    if parent[x] != x:\n",
    "        parent[x] = find_parent(parent,parent[x])\n",
    "    return parent[x]\n",
    "\n",
    "def union(parent,a,b):\n",
    "    a = find_parent(parent,a)\n",
    "    b = find_parent(parent,b)\n",
    "    if a < b:\n",
    "        parent[b]=a\n",
    "    else:\n",
    "        parent[a]=b\n",
    "\n",
    "parent = [k for k in range(n+1)]\n",
    "\n",
    "for s,a,b in command:\n",
    "    if s == 0 :\n",
    "        union(parent,a,b)\n",
    "    else:\n",
    "        if find_parent(parent,a) == find_parent(parent,b):\n",
    "            print('Yes')\n",
    "        else:\n",
    "            print('No')"
   ]
  },
  {
   "cell_type": "markdown",
   "metadata": {},
   "source": [
    "## 도시 분할 계획\n",
    "- 동물원에서 막 탈출한 원숭이 한 마리가 세상 구경을 하고 있다. 어느 날 원숭이는 '평화로운 마을'에 잠시 머물렀는데 마침 마을 사람들은 도로 공사 문제로 머리를 맞대고 회의 중이었다. 마을은 N개의 집과 그 집들을 연결하는 M개의 길로 이루어져 있다. 길은 어느 방향으로든지 다닐 수 있는 편리한 길이다. 그리고 길마다 길을 유지하는데 드는 유지비가 있다. 마을의 이장은 마을을 2개의 분리된 마을로 분할할 계획을 세우고 있다.\n",
    " 마을이 너무 커서 혼자서는 관리할 수 없기 때문이다. 마을을 분할할 때는 각 분리된 마을 안에 집들이 서로 연결되도록 분할해야 한다. 각 분리된 마을 안에 있는 임의의 두 집 사이에 경로가 항상 존재해야 한다는 뜻이다. 마을에는 집이 하나 이상 있어야 한다. 그렇게 마을의 이장은 계획을 세우다가 마을 안에 길이 너무 많다는 생각을 하게 되었다. 일단 분리된 두 마을 사이에 있는 길들은 필요가 없으므로 없앨 수 있다. 그리고 각 분리된 마을 안에서도 임의의 두 집 사이에 경로가 항상 존재하게 하면서 길을 더 없앨 수 있다. 마을의 이장은 위 조건을 만족하도록 길들을 모두 없애고 나머지 길의 유지비의 합을 최소로 하고 싶다. 이것을 구하는 프로그램을 작성하시오.\n",
    "\n",
    " \n",
    "\n",
    "- 입력 조건\n",
    "\n",
    "  - 첫째 줄에 집의 개수 N, 길의 개수 M이 주어진다. N은 2 이상 100,000 이하인 정수이고, M 은 1이상 1,000,000 이하인 정수이다.\n",
    "  - 그 다음 줄부터 M줄에 걸쳐 길의 정보가 A, B, C 3개의 정수로 공백으로 구분되어 주어지는데 A번 집과 B번 집을 연결하는 길의 유지비가 C(1≤ C ≤ 1,000)라는 뜻이다.\n",
    " \n",
    "\n",
    "- 출력 조건\n",
    "\n",
    "  - 첫째 줄에 길을 없애고 남은 유지비 합의 최솟값을 출력한다."
   ]
  },
  {
   "cell_type": "code",
   "execution_count": 13,
   "metadata": {},
   "outputs": [
    {
     "name": "stdout",
     "output_type": "stream",
     "text": [
      "8\n"
     ]
    }
   ],
   "source": [
    "n, m = 7, 12\n",
    "roads = [\n",
    "        [1, 2, 3],\n",
    "        [1, 3, 2],\n",
    "        [3, 2, 1],\n",
    "        [2, 5, 2],\n",
    "        [3, 4, 4],\n",
    "        [7, 3, 6],\n",
    "        [5, 1, 5],\n",
    "        [1, 6, 2],\n",
    "        [6, 4, 1],\n",
    "        [6, 5, 3],\n",
    "        [4, 5, 3],\n",
    "        [6, 7, 4]]\n",
    "\n",
    "def find_parent(parent,x):\n",
    "    if parent[x] != x :\n",
    "        parent[x] = find_parent(parent,parent[x])\n",
    "    return parent[x]\n",
    "\n",
    "def union(parent,a,b):\n",
    "    a = find_parent(parent,a)\n",
    "    b = find_parent(parent,b)\n",
    "    if a < b:\n",
    "        parent[b] = a\n",
    "    else:\n",
    "        parent[a] = b \n",
    "\n",
    "roads.sort(key = lambda x : x[2])\n",
    "parent = [k for k in range(n+1)]\n",
    "\n",
    "cost = 0\n",
    "total = 0  \n",
    "for a,b,c in roads:\n",
    "    if find_parent(parent,a) != find_parent(parent,b):\n",
    "        union(parent,a,b)\n",
    "        cost = max(cost,c)\n",
    "        total += c \n",
    "print(total - cost)"
   ]
  },
  {
   "cell_type": "markdown",
   "metadata": {},
   "source": [
    "## 컬리큘럼\n",
    "- 동빈이는 온라인으로 컴퓨터 공학강의를 듣고 있다. 이때 각 온라인 강의는 선수강의가 있을 수 있는데, 선수강의가 있는 강의는 선수 강의를 먼저 들어야만 해당 강의를 들을 수 있다. \n",
    "동빈이는 총 N개의 강의를 듣고자 한다. 모든 강의는 1번부터 N번 까지의 번호를 가진다. 또한 동시에 여러 개의 강의를 들을 수 있다. \n",
    "동빈이가 듣고자 하는 N개의 강의 정보가 주어졌을 때, N개의 강의에 대하여 수강하기까지 걸리는 최소 시간을 각각 출력하는 프로그램을 작성하시오\n",
    "\n",
    "- 입력\n",
    "  - 첫째줄에 듣고자하는 강의의 수 1<= N <= 500\n",
    "  - 다음 N개의 줄에는 각 강의의 강의 시간과 그 강의를 듣기 위해 먼저 들어야하는 강의들의 번호가 자연수로 주어지며, 각 자연수는 공백으로 주어진다. 이때 강의 시간은 100,000 이하의 자연수\n",
    "  - 각 강의 번호는 1부터 N까지로 구성되며, 각 줄은 -1로 끝난다\n",
    "- 출력 \n",
    "  - N개의 강의에 대하여 수강하기까지 걸리는 최소 시간을 한 줄에 하나씩 출력\n",
    "\n"
   ]
  },
  {
   "cell_type": "code",
   "execution_count": 34,
   "metadata": {},
   "outputs": [
    {
     "name": "stdout",
     "output_type": "stream",
     "text": [
      "[10, 20, 14, 18, 17]\n"
     ]
    }
   ],
   "source": [
    "n = 5 \n",
    "lecture = [\n",
    "    [10,-1],\n",
    "    [10,1,-1],\n",
    "    [4,1,-1],\n",
    "    [4,3,1,-1],\n",
    "    [3,3,-1]\n",
    "]\n",
    "\n",
    "from collections import deque\n",
    "\n",
    "graph = [[] for _ in range(n+1)]\n",
    "indegree = [0]*(n+1)\n",
    "time = [0]*(n+1) \n",
    "result = [0]*(n+1) \n",
    "\n",
    "\n",
    "for idx,i in enumerate(lecture,start =1):\n",
    "    time[idx] = i[0]\n",
    "    result[idx] = i[0]\n",
    "\n",
    "    for j in i[1:-1]:\n",
    "        graph[j].append(idx)\n",
    "        indegree[idx] += 1\n",
    "\n",
    "q = deque()\n",
    "for i in range(1,n+1):\n",
    "    if indegree[i] == 0 :\n",
    "        q.append(i)\n",
    "while q:\n",
    "    now = q.popleft()\n",
    "    for i in graph[now]:\n",
    "        indegree[i] -=1\n",
    "        result[i] = max(result[i],result[now] + time[i])\n",
    "        if indegree[i] == 0:\n",
    "            q.append(i)\n",
    "print(result[1:])"
   ]
  },
  {
   "cell_type": "markdown",
   "metadata": {},
   "source": [
    "## 여행계획\n",
    "- 한울이가 사는 나라에는 N개의 여행지가 있으며, 각 여행지는 1 ~ N번 까지의 번호로 구분된다. 또한 임의의 두 여행지 사이에는 두 여행지를 연결하는 도로가 존재할 수 있다. 이때, 여행지가 도로로 연결되어 있다면 양방향으로 이동이 가능하다. 한울이는 하나의 옇애 계획을 세운 뒤에 이 여행 계획이 가능한지 여부를 판단하고자 한다. 예를들어 N=5이고, 다과 같이 도로의 정보가 주어진다\n",
    "  -  1번 - 2번\n",
    "  - 1번 - 4번\n",
    "  -  1번 - 5번\n",
    "  -  2번 - 3번\n",
    "  -  2번 - 4번\n",
    "- 만약 한울이의 여행 계획이 2번 -> 3번 -> 4번 -> 3번 이라면, 2번 -> 3번 -> 2번 -> 4번 -> 2번 -> 3번의 순서로 여행지를 방문하면, 여행 계획을 따를 수 있다.\n",
    "여행지의 개수와 여행지 간의 연결 정보가 주어졌을 때, 한울이의 여행 계획이 가능한지의 여부를 판별하는 프로그램을 작성하시오\n",
    "\n",
    "- 입력\n",
    "  - 여행지의 수 N, 여행 계획의 수 M (1 <= N,M <= 500)\n",
    "  - 다음 N개의 줄에 걸쳐 N x N 행렬을 통해 임의의 두 여행지가 서로 연결되어 있는지의 여부가 주어진다. 그 값이 1이라면 서로 연결되어 있다는 의미, 0이면 연결되어 있지 않다는 의미\n",
    "  - 마지막줄에는 여행 계획이 포함된 여행지의 번호들이 주어진다."
   ]
  },
  {
   "cell_type": "code",
   "execution_count": 37,
   "metadata": {},
   "outputs": [
    {
     "name": "stdout",
     "output_type": "stream",
     "text": [
      "Yes\n"
     ]
    }
   ],
   "source": [
    "n,m = 5,4\n",
    "roads = [\n",
    "    [0,1,0,1,1],\n",
    "    [1,0,1,1,0],\n",
    "    [0,1,0,0,0],\n",
    "    [1,1,0,0,0],\n",
    "    [1,0,0,0,0],\n",
    "]\n",
    "route = [2,3,4,3]\n",
    "\n",
    "def find_parent(parent,x):\n",
    "    if parent[x] != x:\n",
    "        parent[x] = find_parent(parent,parent[x])\n",
    "    return parent[x]\n",
    "\n",
    "def union(parent,a,b):\n",
    "    a = find_parent(parent,a)\n",
    "    b = find_parent(parent,b)\n",
    "    if a < b:\n",
    "        parent[b] = a\n",
    "    else:\n",
    "        parent[a] = b \n",
    "\n",
    "parent = [k for k in range(n)]\n",
    "\n",
    "for i in range(n):\n",
    "    for j in range(i,n):\n",
    "        if roads[i][j] == 1:\n",
    "            union(parent,i,j)\n",
    "\n",
    "det = False\n",
    "for i in range(len(route)):\n",
    "    for j in range(i,len(route)):\n",
    "        if find_parent(parent,i-1) != find_parent(parent,j-1):\n",
    "            print('No')\n",
    "            det = False\n",
    "            break\n",
    "if not det:\n",
    "    print('Yes')"
   ]
  },
  {
   "cell_type": "markdown",
   "metadata": {},
   "source": [
    "## 탑승구\n",
    "- 공항에는 G개의 탑승구가 있으며, 각각의 탑승구는 1번부터 G번까지의 번호로 구분됩니다. 공항에는 P개의 비행기가 차례대로 도착할 예정이며, i번째 비행기를 1번부터 gi번째 (1 <= gi <= G) 탑승구 중 하나에 영구적으로 도킹해야 합니다. 이때, 다른 비행기가 도킹하지 않은 탑승구에만 도킹할 수 있습니다. 또한 P개의 비행기를 순서대로 도킹하다가 만약에 어떠한 탑승구에도 도킹할 수 없는 비행기가 나오는 경우, 그 시점에서 공항의 운행을 중지합니다. 공항의 관리자는 최대한 많은 비행기를 공항에 도킹하고자 합니다. 비행기를 최대 몇 대 도킹할 수 있는지를 출력하는 프로그램을 작성하세요.\n",
    "\n",
    " \n",
    "\n",
    "- 입력 조건\n",
    "  - 첫째 줄에는 탑승구의 수 G (1 <= G <= 100,000)가 주어집니다.\n",
    "  - 둘째 줄에는 비행기의 수 P (1 <= P <= 100,000)가 주어집니다.\n",
    "  - 다음 P개의 줄에는 각 비행기가 도킹할 수 있는 탑승구의 정보 gi (1 <= gi <= G)가 주어집니다. 이는 i번째 비행기가\n",
    "  - 1번부터 gi번째 (1 <= gi <= G) 탑승구 중 하나에 도킹할 수 있다는 의미입니다.\n",
    "\n",
    " \n",
    "\n",
    "- 출력 조건\n",
    "  - 첫째 줄에 도킹할 수 있는 비행기의 최대 개수를 출력합니다.\n",
    "\n"
   ]
  },
  {
   "cell_type": "code",
   "execution_count": 39,
   "metadata": {},
   "outputs": [
    {
     "name": "stdout",
     "output_type": "stream",
     "text": [
      "2\n"
     ]
    }
   ],
   "source": [
    "g,p = 4,3\n",
    "ar = [4,1,1]\n",
    "\n",
    "parent = [k for k in range(n+1)]\n",
    "\n",
    "def find_parent(parent,x):\n",
    "    if parent[x] != x:\n",
    "        parent[x] = find_parent(parent,parent[x])\n",
    "    return parent[x]\n",
    "\n",
    "def union(parent,a):\n",
    "    a = find_parent(parent,a)\n",
    "    b = find_parent(parent,a-1)\n",
    "    parent[a] = b \n",
    "\n",
    "count = 0 \n",
    "for i in ar:\n",
    "    if find_parent(parent,i) == 0 :\n",
    "        print(count)\n",
    "        break\n",
    "    union(parent,i)\n",
    "    count+=1\n",
    "\n",
    "\n",
    "    "
   ]
  },
  {
   "cell_type": "markdown",
   "metadata": {},
   "source": [
    "## 어두운 길 \n",
    "- 한 마을은 N개의 집과 M개의 도로로 구성되어 있습니다. 각 집은 0번부터 N - 1번까지의 번호로 구분됩니다.\n",
    "모든 도로에는 가로등이 구비되어 있는데, 특정한 도로의 가로등을 하루 동안 켜기 위한 비용은 해당 도로의 길이와\n",
    "동일합니다. 예를 들어 2번 집과 3번 집 사이를 연결하는 길이가 7인 도로가 있다고 해봅시다.\n",
    "하루동안 이 가로등을 켜기 위한 비용은 7이 됩니다.\n",
    "- 정부에서는 일부 가로등을 비활성화하되, 마을에 있는 임의의 두 집에 대하여 가로등이 켜진 도로만을 절약하고자 합니다.\n",
    "마을의 집과 도로 정보가 주어졌을 때, 일부 가로등을 비활성화하여 절약할 수 있는 최대 금액을 출력하는 프로그램을 작성하세요.\n",
    "\n",
    " \n",
    "\n",
    "- [입력 조건]\n",
    "  - 첫째 줄에 집의 수 N(1 <= N <= 200,000)과 도로의 수 M(N-1 <= M <= 200,000)이 주어집니다.\n",
    "\n",
    " \n",
    "\n",
    "  - 다음 M개의 줄에 걸쳐서 각 도로에 대한 정보 X, Y, Z가 주어지며, 공백으로 구분합니다.(0 <= X, Y < N)\n",
    "   이는 X번 집과 Y번 집 사이에 양방향 도로가 있으며, 그 길이가 Z라는 의미입니다. 단, X와 Y가 동일한 경우는\n",
    "   없으며 마을을 구성하는 모든 도로의 길이 합은 2의 31제곱보다 작습니다.\n",
    "\n",
    " \n",
    "\n",
    "- [출력 조건]\n",
    "  - 첫째 줄에 일부 가로등을 비활성화하여 절약할 수 있는 최대 금액을 출력합니다."
   ]
  },
  {
   "cell_type": "code",
   "execution_count": 42,
   "metadata": {},
   "outputs": [
    {
     "name": "stdout",
     "output_type": "stream",
     "text": [
      "51\n"
     ]
    }
   ],
   "source": [
    "n,m = 7,11\n",
    "roads = [\n",
    "    [0,1,7],\n",
    "    [0,3,5],\n",
    "    [1,2,8],\n",
    "    [1,3,9],\n",
    "    [1,4,7],\n",
    "    [2,4,5],\n",
    "    [3,4,15],\n",
    "    [3,5,6],\n",
    "    [4,5,8],\n",
    "    [4,6,9],\n",
    "    [5,6,11]\n",
    "]\n",
    "\n",
    "def find_parent(parent,x):\n",
    "    if parent[x] != x:\n",
    "        parent[x] = find_parent(parent,parent[x])\n",
    "    return parent[x]\n",
    "\n",
    "def union(parent,a,b):\n",
    "    a = find_parent(parent,a)\n",
    "    b = find_parent(parent,b)\n",
    "    if a < b:\n",
    "        parent[b] = a\n",
    "    else:\n",
    "        parent[a] = b \n",
    "\n",
    "roads.sort(key = lambda x : x[2])\n",
    "parent = [k for k in range(n+1)]\n",
    "total = 0\n",
    "cost = 0 \n",
    "for a,b,c in roads:\n",
    "    total += c\n",
    "    if find_parent(parent,a) != find_parent(parent,b):\n",
    "        union(parent,a,b)\n",
    "        cost += c\n",
    "print(total - cost)"
   ]
  },
  {
   "cell_type": "markdown",
   "metadata": {},
   "source": [
    "## 행성 터널\n",
    "<p>\n",
    "때는 2040년, 이민혁은 우주에 자신만의 왕국을 만들었다. 왕국은 N개의 행성으로 이루어져 있다. 민혁이는 이 행성을 효율적으로 지배하기 위해서 행성을 연결하는 터널을 만들려고 한다.</p>\n",
    "\n",
    "<p>\n",
    "행성은 3차원 좌표위의 한 점으로 생각하면 된다. 두 행성 A(x<sub>A</sub>, y<sub>A</sub>, z<sub>A</sub>)와 B(x<sub>B</sub>, y<sub>B</sub>, z<sub>B</sub>)를 터널로 연결할 때 드는 비용은 min(|x<sub>A</sub>-x<sub>B</sub>|, |y<sub>A</sub>-y<sub>B</sub>|, |z<sub>A</sub>-z<sub>B</sub>|)이다.</p>\n",
    "\n",
    "<p>\n",
    "민혁이는 터널을 총 N-1개 건설해서 모든 행성이 서로 연결되게 하려고 한다. 이때, 모든 행성을 터널로 연결하는데 필요한 최소 비용을 구하는 프로그램을 작성하시오.</p>\n",
    "\n",
    "\n",
    "- <p>입력<p>\n",
    "\n",
    "<p>\n",
    "첫째 줄에 행성의 개수 N이 주어진다. (1 &le; N &le; 100,000) 다음 N개 줄에는 각 행성의 x, y, z좌표가 주어진다. 좌표는 -10<sup>9</sup>보다 크거나 같고, 10<sup>9</sup>보다 작거나 같은 정수이다. 한 위치에 행성이 두 개 이상 있는 경우는 없다.&nbsp;</p>\n",
    "\n",
    "\n",
    "- <p>출력<p>\n",
    "</div>\n",
    "<div id=\"problem_output\" class=\"problem-text\">\n",
    "<p>\n",
    "첫째 줄에 모든 행성을 터널로 연결하는데 필요한 최소 비용을 출력한다.</p>\n"
   ]
  },
  {
   "cell_type": "code",
   "execution_count": 49,
   "metadata": {},
   "outputs": [
    {
     "name": "stdout",
     "output_type": "stream",
     "text": [
      "4\n"
     ]
    }
   ],
   "source": [
    "n = 5\n",
    "maps =[\n",
    "    [11,-15,-15],\n",
    "    [14,-5,-15],\n",
    "    [-1,-1,-5],\n",
    "    [10,-4,-1],\n",
    "    [19,-4,19]\n",
    "]\n",
    "\n",
    "def find_parent(parent,x):\n",
    "    if parent[x] != x:\n",
    "        parent[x] = find_parent(parent,parent[x])\n",
    "    return parent[x]\n",
    "\n",
    "def union(parent,a,b):\n",
    "    a = find_parent(parent,a)\n",
    "    b = find_parent(parent,b)\n",
    "    if a<b:\n",
    "        parent[b] = a\n",
    "    else:\n",
    "        parent[a] = b\n",
    "route = []\n",
    "for i in range(n):\n",
    "    for j in range(i+1,n):\n",
    "        cost = min(abs(maps[i][0]-maps[j][0]),abs(maps[i][1]-maps[j][1]),abs(maps[i][2]-maps[j][2]))\n",
    "        route.append([i,j,cost])\n",
    "route.sort(key = lambda x : x[2])\n",
    "parent = [k for k in range(n)]\n",
    "answer = 0\n",
    "for a,b,c in route:\n",
    "    if find_parent(parent,a)!=find_parent(parent,b):\n",
    "        union(parent,a,b)\n",
    "        answer +=c \n",
    "print(answer)"
   ]
  },
  {
   "cell_type": "markdown",
   "metadata": {},
   "source": [
    "## 최종순위\n",
    "<p>올해 ACM-ICPC 대전 인터넷 예선에는 총 n개의 팀이 참가했다. 팀은 1번부터 n번까지 번호가 매겨져 있다. 놀랍게도 올해 참가하는 팀은 작년에 참가했던 팀과 동일하다.</p>\n",
    "\n",
    "<p>올해는 인터넷 예선 본부에서는 최종 순위를 발표하지 않기로 했다. 그 대신에 작년에 비해서 상대적인 순위가 바뀐 팀의 목록만 발표하려고 한다. (작년에는 순위를 발표했다) 예를 들어, 작년에 팀 13이 팀 6 보다 순위가 높았는데, 올해 팀 6이 팀 13보다 순위가 높다면, (6, 13)을 발표할 것이다.</p>\n",
    "\n",
    "<p>창영이는 이 정보만을 가지고 올해 최종 순위를 만들어보려고 한다. 작년 순위와 상대적인 순위가 바뀐 모든 팀의 목록이 주어졌을 때, 올해 순위를 만드는 프로그램을 작성하시오. 하지만, 본부에서 발표한 정보를 가지고 확실한&nbsp;올해 순위를 만들 수 없는 경우가 있을 수도 있고, 일관성이 없는 잘못된 정보일 수도 있다. 이 두 경우도 모두 찾아내야 한다.</p>\n",
    "\n",
    "- 입력\n",
    "<p>첫째 줄에는 테스트 케이스의 개수가 주어진다. 테스트 케이스는 100개를 넘지 않는다. 각 테스트 케이스는 다음과 같이 이루어져 있다.</p>\n",
    "<li>팀의 수 n을 포함하고 있는 한 줄. (2 &le; n &le; 500)</li>\n",
    "<li>n개의 정수 t<sub>i</sub>를 포함하고 있는 한 줄. (1 &le; t<sub>i</sub> &le; n) t<sub>i</sub>는 작년에 i등을 한 팀의 번호이다. 1등이 가장 성적이 높은 팀이다. 모든 ti는 서로 다르다.</li>\n",
    "<li>상대적인 등수가 바뀐 쌍의 수 m (0 &le; m &le; 25000)</li>\n",
    "<li>두 정수 a<sub>i</sub>와 b<sub>i</sub>를 포함하고 있는 m줄. (1 &le; a<sub>i</sub> &lt; b<sub>i</sub> &le; n) 상대적인 등수가 바뀐 두 팀이 주어진다. 같은 쌍이 여러 번 발표되는 경우는 없다.</li>\n",
    "</ul>\n",
    "\n",
    "- 출력\n",
    "</div>\n",
    "<div id=\"problem_output\" class=\"problem-text\">\n",
    "<p>각 테스트 케이스에 대해서 다음을 출력한다.</p>\n",
    "\n",
    "<ul>\n",
    "<li>n개의 정수를 한 줄에 출력한다. 출력하는 숫자는 올해 순위이며, 1등팀부터 순서대로 출력한다. 만약, 확실한 순위를 찾을 수 없다면 &quot;?&quot;를 출력한다. 데이터에 일관성이 없어서 순위를 정할 수 없는 경우에는 &quot;IMPOSSIBLE&quot;을 출력한다.</li>\n",
    "</ul>\n"
   ]
  },
  {
   "cell_type": "code",
   "execution_count": 112,
   "metadata": {},
   "outputs": [
    {
     "name": "stdout",
     "output_type": "stream",
     "text": [
      "[5, 3, 2, 4, 1]\n"
     ]
    }
   ],
   "source": [
    "n = 5\n",
    "last_rank = [5,4,3,2,1]\n",
    "m = 2\n",
    "change = [[2,4],[3,4]]\n",
    "\n",
    "#위상정렬\n",
    "\n",
    "graph = [[] for _ in range(n+1)]\n",
    "indegree = [0]*(n+1)\n",
    "\n",
    "for i in range(1,n+1):\n",
    "    idx = last_rank.index(i)\n",
    "    graph[i] = last_rank[idx+1:]\n",
    "for a,b in change:\n",
    "    graph[b].remove(a)\n",
    "    graph[a].append(b)\n",
    "\n",
    "for i in graph[1:]:\n",
    "    for j in i:\n",
    "        indegree[j] += 1\n",
    "\n",
    "q = deque([])\n",
    "\n",
    "for i in range(1,n+1):\n",
    "    if indegree[i] == 0 :\n",
    "        q.append(i)\n",
    "\n",
    "result = []\n",
    "count = 0 \n",
    "while q:\n",
    "    if len(q)>1:\n",
    "        print('?')\n",
    "        break\n",
    "    now = q.popleft()\n",
    "    result.append(now)\n",
    "    for i in graph[now]:\n",
    "        indegree[i] -=1 \n",
    "        if indegree[i] == 0 :\n",
    "            q.append(i)\n",
    "            count+=1\n",
    "if count != n-1 :\n",
    "    print('im')\n",
    "else:\n",
    "    print(result)"
   ]
  }
 ],
 "metadata": {
  "kernelspec": {
   "display_name": "Python 3",
   "language": "python",
   "name": "python3"
  },
  "language_info": {
   "codemirror_mode": {
    "name": "ipython",
    "version": 3
   },
   "file_extension": ".py",
   "mimetype": "text/x-python",
   "name": "python",
   "nbconvert_exporter": "python",
   "pygments_lexer": "ipython3",
   "version": "3.9.6"
  }
 },
 "nbformat": 4,
 "nbformat_minor": 2
}
