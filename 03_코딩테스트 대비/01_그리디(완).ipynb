{
 "cells": [
  {
   "cell_type": "markdown",
   "metadata": {},
   "source": [
    "# 교재 문제\n",
    "## 큰수의 법칙\n",
    "- 동빈이의 큰수의 법칙은 다양한 수로 이루어진 배열이 있을 때 주어진 수들을 M번 더하여 가장 큰수를 만드는 방법이다. 단, 배열의 특정한 인덱스에 해당하는 수가 연속해서 K번을 초과하여 더해질 수 없는 것이 이 법칙의 특징이다.\n",
    "예를 들어 순서대로 2, 4, 5, 4, 6으로 이루어진 배열이 있을 때, M이 8이고 K가 3이라고 가정하자.이 경우 특정한 인덱스의 수가 연속해서 세 번까지만 더해질 수 있으므로 큰 수의 법칙에 따른 결과는 6 + 6 + 6 + 5 + 6 + 6 + 6 + 5인 46이 된다. 단, 서로 다른 인덱스에 해당하는 수가 같은 경우에도 서로 다른 것으로 간주한다.예를 들어 순서대로 3, 4, 3, 4, 3으로 이루어진 배열이 있을 때 M이 7이고 K가 2라고 가정하자. 이 경우 두 번째 원소에 해당하는 4와 네 번째 원소에 해당하는 4를 번갈아 두 번씩 더하는 것이 가능하다.결과적으로 4 + 4 + 4 + 4 + 4 + 4 + 4 인 28이 도출된다. 배열의 크기 N, 숫자가 더해지는 횟수 M, 그리고 K가 주어질 때 동빈이의 큰 수의 법칙에 따른 결과를 출력하시오.\n",
    "\n",
    "- 입력 조건\n",
    "  - 첫째 줄에 N(2 <= N <= 1000), M(1 <= M <= 10000), K(1 <= K <= 10000) 의 자연수가 주어지며 각자연수는 공백으로 구분한다.\n",
    "  - 둘째 줄에 N개의 자연수가 주어진다. 각 자연수는 공백으로 구분한다. 단, 각각의 자연수는 1 이상 10000 이하의 수로 주어진다. 입력으로 주어지는 K는 항상 M보다 작거나 같다.\n",
    "- 출력 조건\n",
    "  - 첫째 줄에 동빈이의 큰수의 법칙에 따라 더해진 답을 출력한다.\n"
   ]
  },
  {
   "cell_type": "code",
   "execution_count": 10,
   "metadata": {},
   "outputs": [
    {
     "name": "stdout",
     "output_type": "stream",
     "text": [
      "46\n"
     ]
    }
   ],
   "source": [
    "n,m,k = 5,7,3\n",
    "numbers = [2,4,5,4,6]\n",
    "\n",
    "numbers.sort(reverse = True)\n",
    "\n",
    "count = 1\n",
    "result = 0 \n",
    "for i in range(m+1):\n",
    "    if count <= k:\n",
    "        result += numbers[0]\n",
    "        count +=1\n",
    "    else: \n",
    "        result += numbers[1]\n",
    "        count = 1\n",
    "print(result)\n"
   ]
  },
  {
   "cell_type": "markdown",
   "metadata": {},
   "source": [
    "## 숫자 카드게임\n",
    "- 여러 개의 숫자 카드 중에서 가장 높은 숫자가 쓰인 카드 한 장을 뽑는 게임. 단, 게임의 룰을 지키며 뽑아야함\n",
    "\n",
    " \n",
    "\n",
    "    1. 숫자가 쓰인 카드들이 N X M 형태로 놓여 있다. 이때 N은 행의 개수를 의미하고, M은 열의 개수를 의미\n",
    "\n",
    "    2. 먼저 뽑고자 하는 카드가 포함된 행을 선택\n",
    "\n",
    "    3. 선택된 행에 포함된 카드들 중 가장 숫자가 낮은 카드를 뽑음\n",
    "\n",
    "    4. 처음에 카드를 골라낼 행을 선택할 때, 이후 해당 행에서 가장 숫자가 낮은 카드를 뽑아야 하는 것을 고려해 가장 높은 숫자를 뽑을 수 있도록 해야함\n",
    "\n",
    " \n",
    "\n",
    "- 입력 조건\n",
    "\n",
    "  - 첫째 줄에 숫자 카드들이 놓인 행의 개수 N과 열의 개수 M이 공백을 기준으로 하여 각각 자연수로 주어짐 (1 <= N, M <= 100)\n",
    "\n",
    "  - 둘째 줄부터 N개의 줄에 걸쳐 각 카드에 적힌 숫자가 주어짐 각 숫자는 1이상 10000이하의 자연수\n",
    "- 출력 조건\n",
    "  - 첫째 줄에 게임의 룰에 맞게 선택한 카드에 적힌 숫자를 출력"
   ]
  },
  {
   "cell_type": "code",
   "execution_count": 9,
   "metadata": {},
   "outputs": [
    {
     "name": "stdout",
     "output_type": "stream",
     "text": [
      "[[2 7 5 5]\n",
      " [3 1 4 5]]\n",
      "2\n"
     ]
    }
   ],
   "source": [
    "from numpy import random\n",
    "n = 2\n",
    "m = 4 \n",
    "arr = random.randint(9,size= (n,m))\n",
    "print(arr)\n",
    "answer = -1\n",
    "for i in range(n):\n",
    "    a = min(arr[i])\n",
    "    answer = max(a,answer)\n",
    "print(answer)"
   ]
  },
  {
   "cell_type": "markdown",
   "metadata": {},
   "source": [
    "## 1이 될 때까지\n",
    "- 어떠한 수 N이 1이 될 때까지 다음의 두 과정 중 하나를 반복적으로 선택하여 수행하려고 한다. 단, 두 번째 연산은 N이 K로 나누어 떨어질 때만 선택할 수 있다.\n",
    "    1. N에서 1을 뺀다.\n",
    "    2. N을 K로 나눈다.\n",
    "- 예를 들어 N이 17, K가 4라고 가정하자. 이때 1번의 과정을 한 번 수행하면 N은 16이 된다. 이후에 2번의 과정을 두 번 수행하면 N은 1이 된다.\n",
    "결과적으로 이 경우 전체 과정을 실행한 횟수는 3이 된다. 이는 N을 1로 만드는 최소 횟수이다.\n",
    "N과 K가 주어질 때 N이 1이 될 때까지 1번 혹은 2번의 과정을 수행해야 하는 최소 횟수를 구하는 프로그램을 작성하시오.\n",
    "\n",
    " \n",
    "\n",
    "- 입력\n",
    "  - 첫째 줄에 N(2 <= N <= 100.000)과 K(2 <= K <= 100.000)가 공백으로 구분되며 각각 자연수로 주어진다. 이때 입력으로 주어지는 N은 항상 K보다 크거나 같다.\n",
    "- 출력\n",
    "  - 첫째 줄에 N이 1 이 될 때까지 1번 혹은 2번의 과정을 수행해야 하는 횟수의 최솟값을 출력한다."
   ]
  },
  {
   "cell_type": "code",
   "execution_count": 14,
   "metadata": {},
   "outputs": [
    {
     "data": {
      "text/plain": [
       "6"
      ]
     },
     "execution_count": 14,
     "metadata": {},
     "output_type": "execute_result"
    }
   ],
   "source": [
    "n = 25 \n",
    "k = 3\n",
    "result = 0 \n",
    "while True:\n",
    "    target = n//k * k \n",
    "    result += (n -target)\n",
    "    n = target \n",
    "    if n < k :\n",
    "        break\n",
    "    result +=1 \n",
    "    n //=k\n",
    "result +=(n-1)\n",
    "result"
   ]
  },
  {
   "cell_type": "markdown",
   "metadata": {},
   "source": [
    "## 모험가 길드\n",
    "- 한 마을에 모험가가 N명 있습니다. 모험가 길드에서는 N명의 모험가를 대상으로 '공포도'를 측정했는데, '공포도'가 높은 모험가는 쉽게 공포를 느껴 위험 상황에서 제대로 대처할 능력이 떨어집니다. 모험가 길드장인 동빈이는 모험가 그룹을 안전하게 구성하고자 공포도가 X인 모험가는 반드시 X명 이상으로 구성한 모험가 그룹에 참석해야 여행을 떠날 수 있도록 규정했습니다. 동빈이는 최대 몇개의 모험가 그룹을 만들 수 있는지 궁금합니다.\n",
    "\n",
    "- 동빈이를 위해 N명의 모험가에 대한 정보가 주어졌을 때, 여행을 떠날 수 있는 그룹 수의 최댓값을 구하는 프로그램을 작성하세요. 몇 명의 모험가는 마을에 그대로 남아 있어도 되기 때문에, 모든 모험가를 특정한 그룹에 넣을 필요는 없습니다.\n",
    "\n",
    "- 입력\n",
    "  -  첫째 줄에 모험가의 수 N이 주어집니다. (1≤ N ≤ 100,000)\n",
    "  -  둘째 줄에 각 모험가의 공포도의 값을 N 이하의 자연수로 주어지며, 각 자연수는 공백으로 구분합니다.\n",
    " \n",
    "\n",
    "- 출력 조건\n",
    "  - 여행을 떠날 수 있는 그룸 수의 최댓값을 출력\n"
   ]
  },
  {
   "cell_type": "code",
   "execution_count": 17,
   "metadata": {},
   "outputs": [
    {
     "data": {
      "text/plain": [
       "2"
      ]
     },
     "execution_count": 17,
     "metadata": {},
     "output_type": "execute_result"
    }
   ],
   "source": [
    "n = 5 \n",
    "members = [2,3,1,2,2]\n",
    "members.sort()\n",
    "\n",
    "group = 0 \n",
    "count = 0 \n",
    "for i in members:\n",
    "    count +=1\n",
    "    if i <= count:\n",
    "        group +=1\n",
    "        count = 0 \n",
    "group"
   ]
  },
  {
   "cell_type": "markdown",
   "metadata": {},
   "source": [
    "## 곱하기 혹은 더하기 \n",
    "- 각 자리가 숫자(0부터 9)로만 이루어진 문자열 S가 주어졌을 때, 왼쪽부터 오른쪽으로 하나씩 모든 숫자를 확인하며 숫자 사이에 'x' 혹은 '+' 연산자를 넣어 결과적으로 만들어질 수 있는 가장 큰 수를 구하는 프로그램을 작성하세요. 단, +보다 x를 먼저 계산하는 일반적인 방식과는 달리, 모든 연산은 왼쪽에서부터 순서대로 이루어진다고 가정합니다."
   ]
  },
  {
   "cell_type": "code",
   "execution_count": 20,
   "metadata": {},
   "outputs": [
    {
     "name": "stdout",
     "output_type": "stream",
     "text": [
      "576\n"
     ]
    }
   ],
   "source": [
    "n = '02984'\n",
    "start = 1 \n",
    "for i in n:\n",
    "    if int(i) > 1:\n",
    "        start *= int(i) \n",
    "    else:\n",
    "        start += int(i)\n",
    "print(start)"
   ]
  },
  {
   "cell_type": "markdown",
   "metadata": {},
   "source": [
    "## 문자열 뒤집기\n",
    "<p>다솜이는 0과 1로만 이루어진 문자열 S를 가지고 있다. 다솜이는 이 문자열 S에 있는 모든 숫자를 전부 같게 만들려고 한다. 다솜이가 할 수 있는 행동은 S에서 연속된 하나 이상의 숫자를 잡고 모두 뒤집는 것이다. 뒤집는 것은 1을 0으로, 0을 1로 바꾸는 것을 의미한다.</p>\n",
    "\n",
    "<p>예를 들어 S=0001100 일 때,</p>\n",
    "\n",
    "<ol>\n",
    "\t<li>전체를 뒤집으면 1110011이 된다.</li>\n",
    "\t<li>4번째 문자부터 5번째 문자까지 뒤집으면 1111111이 되어서 2번 만에 모두 같은 숫자로 만들 수 있다.</li>\n",
    "</ol>\n",
    "\n",
    "<p>하지만, 처음부터 4번째 문자부터 5번째 문자까지 문자를 뒤집으면 한 번에 0000000이 되어서 1번 만에 모두 같은 숫자로 만들 수 있다.</p>\n",
    "\n",
    "<p>문자열 S가 주어졌을 때, 다솜이가 해야하는 행동의 최소 횟수를&nbsp;출력하시오.</p>\n",
    "\n",
    "\n",
    "<p>입력<p>\n",
    "  - 첫째 줄에 문자열 S가 주어진다. S의 길이는 100만보다 작다.\n",
    "\n",
    "<p>출력<p>\n",
    "  - 첫째 줄에 다솜이가 해야하는 행동의 최소 횟수를 출력한다.</p>\n"
   ]
  },
  {
   "cell_type": "code",
   "execution_count": 34,
   "metadata": {},
   "outputs": [
    {
     "name": "stdout",
     "output_type": "stream",
     "text": [
      "3\n"
     ]
    }
   ],
   "source": [
    "n = '00011001010'\n",
    "count0 = 0\n",
    "count1 = 0 \n",
    "\n",
    "if n[0] == '1':\n",
    "    count1 += 1\n",
    "else:\n",
    "    count0 += 1\n",
    "\n",
    "for i in range(len(n) - 1):\n",
    "    if n[i] != n[i + 1]:\n",
    "        if n[i + 1] == '1':\n",
    "            count1 += 1\n",
    "        else:\n",
    "            count0 += 1\n",
    "\n",
    "print(min(count0, count1))"
   ]
  },
  {
   "cell_type": "markdown",
   "metadata": {},
   "source": [
    "## 만들 수 없는 금액\n",
    "\n",
    "동네 편의점의 주인인 동빈이는 N개의 동전을 가지고 있습니다. 이때 N개의 동전을 이용하여 만들 수 없는 양의 정수 금액 중 최솟값을 구하는 프로그램을 작성하세요.\n",
    "\n",
    "예를 들어, N=5 이고, 각 동전이 각각 3원, 2원, 1원, 1원, 9원짜리(화폐 단위) 동전이라고 가정합시다. 이때 동빈이가 만들 수 없는 양의 정수 금액 중 최솟값은 8원입니다.\n",
    "\n",
    "또 다른 예시로, N=3이고, 각 동전이 각각 3원, 5원, 7원 동전이라고 가정합시다. 이때 동빈이가 만들 수 없는 양의 정수 금액 중 최솟값은 1원입니다.\n",
    "\n",
    " \n",
    "\n",
    "- 입력\n",
    "  - 첫 째줄에는 동전의 개수를 나타내는 양의 정수 N이 주어집니다. (1≤N≤1,000)\n",
    "  - 둘째 줄에는 각 동전의 화폐 단위를 나타내는 N개의 자연수가 주어지며, 각 자연수는 공백으로 구분합니다. 이때, 각 화폐 단위는 1,000,000 이하의 자연수입니다.\n",
    " \n",
    "\n",
    "- 출력 조건\n",
    "  - 첫째 줄에 주어진 동전들로 만들 수 없는 양의 정수 금액 중 최솟값을 출력합니다."
   ]
  },
  {
   "cell_type": "code",
   "execution_count": 35,
   "metadata": {},
   "outputs": [
    {
     "data": {
      "text/plain": [
       "8"
      ]
     },
     "execution_count": 35,
     "metadata": {},
     "output_type": "execute_result"
    }
   ],
   "source": [
    "n = 5 \n",
    "coins = [3,2,1,1,9]\n",
    "coins.sort()\n",
    "\n",
    "target = 1 \n",
    "for i in coins:\n",
    "    if target<i:\n",
    "        break\n",
    "    target += i \n",
    "target"
   ]
  },
  {
   "cell_type": "markdown",
   "metadata": {},
   "source": [
    "## 볼링공 고르기\n",
    "A,B 두 사람이 볼링을 치고 있습니다. 두 사람은 서로 무게가 다른 볼링공을 고르려고 합니다. 볼링공은 총 N개가 있으며 각 볼링공마다 무게가 적혀 있고, 공의 번호는 1번부터 순서대로 부여됩니다. 또한 같은 무게의 공이 여러 개 있을 수 있지만, 서로 다른 공으로 간주합니다. 볼링공의 무게는 1부터 M까지의 자연수 형태로 존재합니다.\n",
    "예를 들어 N이 5이고, M이 3이며 각각의 무게가 차례대로 1,3,2,3,2일 때 각 공의 번호가 차례대로 1번부터 5번까지 부여됩니다. 이때 두 사람이 고를 수 있는 볼링공 번호의 조합을 구하면 다음과 같습니다.\n",
    "\n",
    "- (1번, 2번), (1번, 3번), (1번, 4번), (1번, 5번), (2번, 3번), (2번, 5번), (3번, 4번), (4번, 5번)\n",
    "\n",
    "결과적으로 두 사람이 공을 고르는 경우의 수는 8가지입니다. N개의 공의 무게가 각각 주어질 때, 두 사람이 볼링공을 고르는 경우의 수를 구하는 프로그램을 작성하세요.\n",
    "\n",
    "- 입력\n",
    "  - 첫째 줄에 볼링공의 개수 N, 공의 최대 무게 M이 공백으로 구분되어 각각 자연수 형태로 주어집니다. (1<=N<=1,000 ,1<=M<=10)\n",
    "  - 둘째 줄에 각 볼링공의 무게 K가 공백으로 구분되어 순서대로 자연수 형태로 주어집니다. (1<=K<=M)\n",
    "- 출력\n",
    "  - 첫째 줄에 두 사람이 볼링공을 고르는 경우의 수를 출력합니다.\n"
   ]
  },
  {
   "cell_type": "code",
   "execution_count": 36,
   "metadata": {},
   "outputs": [
    {
     "name": "stdout",
     "output_type": "stream",
     "text": [
      "8\n"
     ]
    }
   ],
   "source": [
    "n,m =5,3\n",
    "balls = [1,3,2,3,2]\n",
    "\n",
    "from itertools import combinations\n",
    "count = 0 \n",
    "for a,b in combinations(balls,2):\n",
    "    if a == b :\n",
    "        continue\n",
    "    else:\n",
    "        count +=1 \n",
    "print(count)"
   ]
  },
  {
   "cell_type": "code",
   "execution_count": 76,
   "metadata": {},
   "outputs": [
    {
     "name": "stdout",
     "output_type": "stream",
     "text": [
      "1 [0, 1, 2, 2]\n",
      "2 [0, 1, 2, 2]\n",
      "3 [0, 1, 2, 2]\n",
      "8\n"
     ]
    }
   ],
   "source": [
    "n,m =5,3\n",
    "balls = [1,3,2,3,2]\n",
    "ball = [0] *(m+1)\n",
    "\n",
    "for i in balls:\n",
    "    ball[i] +=1 \n",
    "answer = 0 \n",
    "for i in range(1,m+1):\n",
    "    n -= ball[i]\n",
    "    answer += ball[i]*n\n",
    "print(answer)"
   ]
  },
  {
   "cell_type": "markdown",
   "metadata": {},
   "source": [
    "## 무지의 먹방 라이브\n",
    "<p>평소 식욕이 왕성한 무지는 자신의 재능을 뽐내고 싶어 졌고 고민 끝에 카카오 TV 라이브로 방송을 하기로 마음먹었다.</p>\n",
    "\n",
    "<p><img src=\"https://grepp-programmers.s3.amazonaws.com/files/production/10f4f72c93/1d932bfc-8082-4b7e-b30d-ab46bf71a9f2.png\" title=\"\" alt=\"muji_live.png\"></p>\n",
    "\n",
    "<p>그냥 먹방을 하면 다른 방송과 차별성이 없기 때문에 무지는 아래와 같이 독특한 방식을 생각해냈다. </p>\n",
    "\n",
    "<p>회전판에 먹어야 할 N 개의 음식이 있다. <br>\n",
    "각 음식에는 1부터 N 까지 번호가 붙어있으며, 각 음식을 섭취하는데 일정 시간이 소요된다. <br>\n",
    "무지는 다음과 같은 방법으로 음식을 섭취한다.</p>\n",
    "\n",
    "<ul>\n",
    "<li>무지는 1번 음식부터 먹기 시작하며, 회전판은 번호가 증가하는 순서대로 음식을 무지 앞으로 가져다 놓는다.</li>\n",
    "<li>마지막 번호의 음식을 섭취한 후에는 회전판에 의해 다시 1번 음식이 무지 앞으로 온다.</li>\n",
    "<li>무지는 음식 하나를 1초 동안 섭취한 후 남은 음식은 그대로 두고, 다음 음식을 섭취한다.\n",
    "\n",
    "<ul>\n",
    "<li>다음 음식이란, 아직 남은 음식 중 다음으로 섭취해야 할 가장 가까운 번호의 음식을 말한다.</li>\n",
    "</ul></li>\n",
    "<li>회전판이 다음 음식을 무지 앞으로 가져오는데 걸리는 시간은 없다고 가정한다.</li>\n",
    "</ul>\n",
    "\n",
    "<p>무지가 먹방을 시작한 지 K 초 후에 네트워크 장애로 인해 방송이 잠시 중단되었다.<br>\n",
    "무지는 네트워크 정상화 후 다시 방송을 이어갈 때, 몇 번 음식부터 섭취해야 하는지를 알고자 한다. <br>\n",
    "각 음식을 모두 먹는데 필요한 시간이 담겨있는 배열 food_times, 네트워크 장애가 발생한 시간 K 초가 매개변수로 주어질 때 몇 번 음식부터 다시 섭취하면 되는지 return 하도록 solution 함수를 완성하라.</p>\n",
    "\n",
    "<h5>제한사항</h5>\n",
    "\n",
    "<ul>\n",
    "<li>food_times 는 각 음식을 모두 먹는데 필요한 시간이 음식의 번호 순서대로 들어있는 배열이다.</li>\n",
    "<li>k 는 방송이 중단된 시간을 나타낸다.</li>\n",
    "<li>만약 더 섭취해야 할 음식이 없다면 <code>-1</code>을 반환하면 된다.</li>\n",
    "</ul>\n",
    "\n",
    "<h5>정확성 테스트 제한 사항</h5>\n",
    "\n",
    "<ul>\n",
    "<li>food_times 의 길이는 <code>1</code> 이상 <code>2,000</code> 이하이다.</li>\n",
    "<li>food_times 의 원소는 <code>1</code> 이상 <code>1,000</code> 이하의 자연수이다.</li>\n",
    "<li>k는 <code>1</code> 이상 <code>2,000,000</code> 이하의 자연수이다.</li>\n",
    "</ul>\n",
    "\n",
    "<h5>효율성 테스트 제한 사항</h5>\n",
    "\n",
    "<ul>\n",
    "<li>food_times 의 길이는 <code>1</code> 이상 <code>200,000</code> 이하이다.</li>\n",
    "<li>food_times 의 원소는 <code>1</code> 이상 <code>100,000,000</code> 이하의 자연수이다.</li>\n",
    "<li>k는 <code>1</code> 이상 <code>2 x  10^13</code> 이하의 자연수이다.</li>\n",
    "</ul>\n",
    "\n",
    "<h5>입출력 예</h5>\n",
    "<table class=\"table\">\n",
    "        <thead><tr>\n",
    "<th>food_times</th>\n",
    "<th>k</th>\n",
    "<th>result</th>\n",
    "</tr>\n",
    "</thead>\n",
    "        <tbody><tr>\n",
    "<td>[3, 1, 2]</td>\n",
    "<td>5</td>\n",
    "<td>1</td>\n",
    "</tr>\n",
    "</tbody>\n",
    "      </table>\n",
    "<h5>입출력 예 설명</h5>\n",
    "\n",
    "<p>입출력 예 #1</p>\n",
    "\n",
    "<ul>\n",
    "<li>0~1초 동안에 1번 음식을 섭취한다. 남은 시간은 [2,1,2] 이다.</li>\n",
    "<li>1~2초 동안 2번 음식을 섭취한다. 남은 시간은 [2,0,2] 이다.</li>\n",
    "<li>2~3초 동안 3번 음식을 섭취한다. 남은 시간은 [2,0,1] 이다.</li>\n",
    "<li>3~4초 동안 1번 음식을 섭취한다. 남은 시간은 [1,0,1] 이다.</li>\n",
    "<li>4~5초 동안 (2번 음식은 다 먹었으므로) 3번 음식을 섭취한다. 남은 시간은 [1,0,0] 이다.</li>\n",
    "<li>5초에서 네트워크 장애가 발생했다. 1번 음식을 섭취해야 할 때 중단되었으므로, 장애 복구 후에 1번 음식부터 다시 먹기 시작하면 된다.</li>"
   ]
  },
  {
   "cell_type": "code",
   "execution_count": 102,
   "metadata": {},
   "outputs": [],
   "source": [
    "\n",
    "food_times = [3,1,2]\n",
    "k = 5\n",
    "\n",
    "import heapq as hq \n",
    "def solution(food_times, k):\n",
    "    if sum(food_times) <= k :\n",
    "        return -1 \n",
    "    q = []\n",
    "    for idx,time in enumerate(food_times,start=1):\n",
    "        hq.heappush(q,[time,idx])\n",
    "    \n",
    "    totoal_time = 0 \n",
    "    previous = 0 \n",
    "    length = len(food_times)\n",
    "    \n",
    "    while totoal_time+((q[0][0] - previous)*length)<=k: \n",
    "        now = hq.heapopo(q)[0]\n",
    "        total_time += (now-previous)*length\n",
    "        length -=1\n",
    "        previous = now \n",
    "    q.sort(key = lambda x : x[1])\n",
    "    answer = q[(k-total_time)%length][1]\n",
    "    return answer \n",
    "\n",
    "\n"
   ]
  },
  {
   "cell_type": "code",
   "execution_count": 111,
   "metadata": {},
   "outputs": [
    {
     "name": "stdout",
     "output_type": "stream",
     "text": [
      "[[1, 2], [3, 1], [2, 3]]\n",
      "[[2, 3], [3, 1]]\n",
      "1\n"
     ]
    }
   ],
   "source": [
    "food_times = [3,1,2]\n",
    "k = 5\n",
    "\n",
    "import heapq as hq\n",
    "\n",
    "q = [] \n",
    "for idx,time in enumerate(food_times, start = 1 ):\n",
    "    hq.heappush(q,[time,idx])\n",
    "\n",
    "total = 0 \n",
    "pre = 0 \n",
    "length = len(food_times)\n",
    "\n",
    "while total+((q[0][0] - pre)*length) <= k:\n",
    "    print(q)\n",
    "    now = hq.heappop(q)[0]\n",
    "    total += (now-pre)*length\n",
    "    length -=1 \n",
    "    pre = now \n",
    "\n",
    "answer = q[(k-total)%length][1]\n",
    "print(answer)"
   ]
  },
  {
   "cell_type": "markdown",
   "metadata": {},
   "source": [
    "# 프로그래머스 고득점 킷 \n",
    "## 체육복\n",
    "<p>점심시간에 도둑이 들어, 일부 학생이 체육복을 도난당했습니다. 다행히 여벌 체육복이 있는 학생이 이들에게 체육복을 빌려주려 합니다. 학생들의 번호는 체격 순으로 매겨져 있어, 바로 앞번호의 학생이나 바로 뒷번호의 학생에게만 체육복을 빌려줄 수 있습니다. 예를 들어, 4번 학생은 3번 학생이나 5번 학생에게만 체육복을 빌려줄 수 있습니다. 체육복이 없으면 수업을 들을 수 없기 때문에 체육복을 적절히 빌려 최대한 많은 학생이 체육수업을 들어야 합니다.</p>\n",
    "\n",
    "<p>전체 학생의 수 n, 체육복을 도난당한 학생들의 번호가 담긴 배열 lost, 여벌의 체육복을 가져온 학생들의 번호가 담긴 배열 reserve가 매개변수로 주어질 때, 체육수업을 들을 수 있는 학생의 최댓값을 return 하도록 solution 함수를 작성해주세요.</p>\n",
    "\n",
    "<h5>제한사항</h5>\n",
    "\n",
    "<ul>\n",
    "<li>전체 학생의 수는 2명 이상 30명 이하입니다.</li>\n",
    "<li>체육복을 도난당한 학생의 수는 1명 이상 n명 이하이고 중복되는 번호는 없습니다.</li>\n",
    "<li>여벌의 체육복을 가져온 학생의 수는 1명 이상 n명 이하이고 중복되는 번호는 없습니다.</li>\n",
    "<li>여벌 체육복이 있는 학생만 다른 학생에게 체육복을 빌려줄 수 있습니다.</li>\n",
    "<li>여벌 체육복을 가져온 학생이 체육복을 도난당했을 수 있습니다. 이때 이 학생은 체육복을 하나만 도난당했다고 가정하며, 남은 체육복이 하나이기에 다른 학생에게는 체육복을 빌려줄 수 없습니다.</li>\n",
    "</ul>\n",
    "\n",
    "<h5>입출력 예</h5>\n",
    "<table class=\"table\">\n",
    "        <thead><tr>\n",
    "<th>n</th>\n",
    "<th>lost</th>\n",
    "<th>reserve</th>\n",
    "<th>return</th>\n",
    "</tr>\n",
    "</thead>\n",
    "        <tbody><tr>\n",
    "<td>5</td>\n",
    "<td>[2, 4]</td>\n",
    "<td>[1, 3, 5]</td>\n",
    "<td>5</td>\n",
    "</tr>\n",
    "<tr>\n",
    "<td>5</td>\n",
    "<td>[2, 4]</td>\n",
    "<td>[3]</td>\n",
    "<td>4</td>\n",
    "</tr>\n",
    "<tr>\n",
    "<td>3</td>\n",
    "<td>[3]</td>\n",
    "<td>[1]</td>\n",
    "<td>2</td>\n",
    "</tr>\n",
    "</tbody>\n",
    "      </table>\n",
    "<h5>입출력 예 설명</h5>\n",
    "\n",
    "<p>예제 #1<br>\n",
    "1번 학생이 2번 학생에게 체육복을 빌려주고, 3번 학생이나 5번 학생이 4번 학생에게 체육복을 빌려주면 학생 5명이 체육수업을 들을 수 있습니다.</p>\n",
    "\n",
    "<p>예제 #2<br>\n",
    "3번 학생이 2번 학생이나 4번 학생에게 체육복을 빌려주면 학생 4명이 체육수업을 들을 수 있습니다.</p>"
   ]
  },
  {
   "cell_type": "code",
   "execution_count": 130,
   "metadata": {},
   "outputs": [],
   "source": [
    "n, lost, reverse,result = 5,\t[2, 4],\t[1, 3, 5],\t5\n",
    "# n, lost, reverse,result = 5,\t[2, 4],\t[3],\t4\n",
    "# n, lost, reverse,result = 3,\t[3],\t[1],\t2"
   ]
  },
  {
   "cell_type": "code",
   "execution_count": 117,
   "metadata": {},
   "outputs": [
    {
     "name": "stdout",
     "output_type": "stream",
     "text": [
      "5\n"
     ]
    }
   ],
   "source": [
    "n, lost, reserve,result = 5,\t[2, 4],\t[1, 3, 5],\t5\n",
    "s = set(lost) & set(reserve)\n",
    "l = set(lost) - s \n",
    "r = set(reserve) - s \n",
    "\n",
    "for i in sorted(r):\n",
    "    if i - 1 in l :\n",
    "        l.remove(i-1)\n",
    "    elif i +1 in l:\n",
    "        l.remove(i+1)\n",
    "\n",
    "print(n - len(l))"
   ]
  },
  {
   "cell_type": "markdown",
   "metadata": {},
   "source": [
    "## 조이스틱"
   ]
  },
  {
   "cell_type": "markdown",
   "metadata": {},
   "source": [
    "- 문제 \n",
    "- 조이스틱으로 알파벳 이름을 완성하세요. 맨 처음엔 A로만 이루어져 있습니다. 만들고자 하는 이름 name이 매개변수로 주어질 때, 이름에 대해 조이스틱 조작 횟수의 최솟값을 return 하도록 solution 함수를 만드세요."
   ]
  },
  {
   "cell_type": "code",
   "execution_count": 1,
   "metadata": {},
   "outputs": [],
   "source": [
    "name,result = \"JEROEN\", 56"
   ]
  },
  {
   "cell_type": "code",
   "execution_count": 6,
   "metadata": {},
   "outputs": [
    {
     "name": "stdout",
     "output_type": "stream",
     "text": [
      "JEROEN JEROEN \n",
      "----\n",
      "JNEORE JEROEN \n",
      "0 ----\n",
      "NJEROE N JEROE\n",
      "----\n",
      "EJNEOR N JEROE\n",
      "1 ----\n",
      "ENJERO EN JERO\n",
      "----\n",
      "REJNEO EN JERO\n",
      "2 ----\n",
      "OENJER OEN JER\n",
      "----\n",
      "OREJNE OEN JER\n",
      "3 ----\n"
     ]
    }
   ],
   "source": [
    "a_pos = ord('A') # 'A' : 65, 'Z' : 90\n",
    "z_pos = ord('Z')\n",
    "\n",
    "for i in range(len(name)//2 + 1):\n",
    "    l_r = name[-i:] + name[:-i]\n",
    "    print(l_r,name[-i:],name[:-i])\n",
    "    print('----')\n",
    "    r_l = name[i: :-1] + name[i+1:][::-1]\n",
    "    print(r_l,name[-i:],name[:-i])\n",
    "    print(i,'----')"
   ]
  },
  {
   "cell_type": "code",
   "execution_count": 200,
   "metadata": {},
   "outputs": [
    {
     "data": {
      "text/plain": [
       "56"
      ]
     },
     "execution_count": 200,
     "metadata": {},
     "output_type": "execute_result"
    }
   ],
   "source": [
    "def solution(name):\n",
    "# 두번 꺽는 경우는 고려하지 않음\n",
    "\n",
    "    if set(name) == {'A'}:\n",
    "        return 0\n",
    "\n",
    "    a_pos = ord('A') # 'A' : 65, 'Z' : 90\n",
    "    z_pos = ord('Z')\n",
    "\n",
    "    answer = float('inf')\n",
    "\n",
    "    for i in range(len(name)//2 + 1):\n",
    "        l_r = name[-i:] + name[:-i] #왼쪽먼저 갔다가 + 오른쪽\n",
    "        r_l = name[i: :-1] + name[i+1:][::-1] # 기준점에서 빠꾸 + 좌측\n",
    "        for n in [l_r,r_l]:\n",
    "            # 끝에 A들은 셀 필요 없으므로 자르기\n",
    "            while n and n[-1] == 'A':\n",
    "                n = n[:-1]\n",
    "            cnt = [min(ord(c)-a_pos, (z_pos+1) - ord(c)) for c in n ]\n",
    "            answer = min(answer, i + (len(cnt)-1) + sum(cnt))\n",
    "\n",
    "    return answer"
   ]
  },
  {
   "cell_type": "markdown",
   "metadata": {},
   "source": [
    "## 큰수 만들기\n",
    "<div class=\"markdown solarized-dark\"><p>어떤 숫자에서 k개의 수를 제거했을 때 얻을 수 있는 가장 큰 숫자를 구하려 합니다.</p>\n",
    "\n",
    "<p>예를 들어, 숫자 1924에서 수 두 개를 제거하면 [19, 12, 14, 92, 94, 24] 를 만들 수 있습니다. 이 중 가장 큰 숫자는 94 입니다.</p>\n",
    "\n",
    "<p>문자열 형식으로 숫자 number와 제거할 수의 개수 k가 solution 함수의 매개변수로 주어집니다. number에서 k 개의 수를 제거했을 때 만들 수 있는 수 중 가장 큰 숫자를 문자열 형태로 return 하도록 solution 함수를 완성하세요.</p>\n",
    "\n",
    "<h5>제한 조건</h5>\n",
    "\n",
    "<ul>\n",
    "<li>number는 2자리 이상, 1,000,000자리 이하인 숫자입니다.</li>\n",
    "<li>k는 1 이상 <code>number의 자릿수</code> 미만인 자연수입니다.</li>\n",
    "</ul>\n",
    "\n",
    "<h5>입출력 예</h5>\n",
    "<table class=\"table\">\n",
    "        <thead><tr>\n",
    "<th>number</th>\n",
    "<th>k</th>\n",
    "<th>return</th>\n",
    "</tr>\n",
    "</thead>\n",
    "        <tbody><tr>\n",
    "<td>\"1924\"</td>\n",
    "<td>2</td>\n",
    "<td>\"94\"</td>\n",
    "</tr>\n",
    "<tr>\n",
    "<td>\"1231234\"</td>\n",
    "<td>3</td>\n",
    "<td>\"3234\"</td>\n",
    "</tr>\n",
    "<tr>\n",
    "<td>\"4177252841\"</td>\n",
    "<td>4</td>\n",
    "<td>\"775841\"</td>\n",
    "</tr>\n",
    "</tbody>\n",
    "      </table></div>\n",
    "      </div>\n",
    "    </div>"
   ]
  },
  {
   "cell_type": "code",
   "execution_count": 9,
   "metadata": {},
   "outputs": [
    {
     "name": "stdout",
     "output_type": "stream",
     "text": [
      "7758841\n"
     ]
    }
   ],
   "source": [
    "numbers = '4177252841'\n",
    "k = 4 \n",
    "\n",
    "from collections import deque\n",
    "collection = [] \n",
    "\n",
    "for idx,i in enumerate(numbers):\n",
    "    while len(collection)>0 and collection[-1] < i and k>0:\n",
    "        collection.pop()\n",
    "        k-=1\n",
    "    collection.append(i)\n",
    "    if k == 0 :\n",
    "        collection += numbers[idx:]\n",
    "        break \n",
    "answer = numbers[:-k] if k>0 else collection\n",
    "\n",
    "answer = ''.join(answer)\n",
    "print(answer)"
   ]
  },
  {
   "cell_type": "code",
   "execution_count": 219,
   "metadata": {},
   "outputs": [
    {
     "data": {
      "text/plain": [
       "[8, 7, 7, 5, 4, 4, 2, 2, 1, 1]"
      ]
     },
     "execution_count": 219,
     "metadata": {},
     "output_type": "execute_result"
    }
   ],
   "source": [
    "def solution(number, k):\n",
    "    collected = []\n",
    "    for i,n in enumerate(number):\n",
    "        while len(collected) > 0 and collected[-1] < n and k>0:\n",
    "            collected.pop()\n",
    "            k -=1\n",
    "        if k == 0:\n",
    "            collected +=list(number[i:])\n",
    "            break\n",
    "        collected.append(n)\n",
    "    collected = collected[:-k] if k>0 else collected\n",
    "    answer =''.join(collected)\n",
    "    return answer"
   ]
  },
  {
   "cell_type": "markdown",
   "metadata": {},
   "source": [
    "## 구명보트\n",
    "<p>무인도에 갇힌 사람들을 구명보트를 이용하여 구출하려고 합니다. 구명보트는 작아서 한 번에 최대 <strong>2명</strong>씩 밖에 탈 수 없고, 무게 제한도 있습니다.</p>\n",
    "\n",
    "<p>예를 들어, 사람들의 몸무게가 [70kg, 50kg, 80kg, 50kg]이고 구명보트의 무게 제한이 100kg이라면 2번째 사람과 4번째 사람은 같이 탈 수 있지만 1번째 사람과 3번째 사람의 무게의 합은 150kg이므로 구명보트의 무게 제한을 초과하여 같이 탈 수 없습니다.</p>\n",
    "\n",
    "<p>구명보트를 최대한 적게 사용하여 모든 사람을 구출하려고 합니다.</p>\n",
    "\n",
    "<p>사람들의 몸무게를 담은 배열 people과 구명보트의 무게 제한 limit가 매개변수로 주어질 때, 모든 사람을 구출하기 위해 필요한 구명보트 개수의 최솟값을 return 하도록 solution 함수를 작성해주세요.</p>\n",
    "\n",
    "<h5>제한사항</h5>\n",
    "\n",
    "<ul>\n",
    "<li>무인도에 갇힌 사람은 1명 이상 50,000명 이하입니다.</li>\n",
    "<li>각 사람의 몸무게는 40kg 이상 240kg 이하입니다.</li>\n",
    "<li>구명보트의 무게 제한은 40kg 이상 240kg 이하입니다.</li>\n",
    "<li>구명보트의 무게 제한은 항상 사람들의 몸무게 중 최댓값보다 크게 주어지므로 사람들을 구출할 수 없는 경우는 없습니다.</li>\n",
    "</ul>\n",
    "\n",
    "<h5>입출력 예</h5>\n",
    "<table class=\"table\">\n",
    "        <thead><tr>\n",
    "<th>people</th>\n",
    "<th>limit</th>\n",
    "<th>return</th>\n",
    "</tr>\n",
    "</thead>\n",
    "        <tbody><tr>\n",
    "<td>[70, 50, 80, 50]</td>\n",
    "<td>100</td>\n",
    "<td>3</td>\n",
    "</tr>\n",
    "<tr>\n",
    "<td>[70, 80, 50]</td>\n",
    "<td>100</td>\n",
    "<td>3</td>\n",
    "</tr>\n",
    "</tbody>\n",
    "      </table>\n"
   ]
  },
  {
   "cell_type": "code",
   "execution_count": 12,
   "metadata": {},
   "outputs": [
    {
     "data": {
      "text/plain": [
       "3"
      ]
     },
     "execution_count": 12,
     "metadata": {},
     "output_type": "execute_result"
    }
   ],
   "source": [
    "def solution(people, limit):\n",
    "    people.sort() # 50 50 70 80 \n",
    "    start = 0 \n",
    "    end = len(people)-1\n",
    "    count = 0 \n",
    "    while start <= end:\n",
    "        if people[start] + people[end] > limit:\n",
    "            end -=1\n",
    "            count+=1\n",
    "        else :\n",
    "            start +=1\n",
    "            end -=1 \n",
    "            count +=1\n",
    "    return count\n",
    "\n",
    "people = [70,80,50,50,]\n",
    "limit =100 \n",
    "solution(people,limit)\n"
   ]
  },
  {
   "cell_type": "markdown",
   "metadata": {},
   "source": [
    "## 섬 연결하기\n",
    "<div class=\"markdown solarized-dark\"><p>n개의 섬 사이에 다리를 건설하는 비용(costs)이 주어질 때, 최소의 비용으로 모든 섬이 서로 통행 가능하도록 만들 때 필요한 최소 비용을 return 하도록 solution을 완성하세요.</p>\n",
    "\n",
    "<p>다리를 여러 번 건너더라도, 도달할 수만 있으면 통행 가능하다고 봅니다. 예를 들어 A 섬과 B 섬 사이에 다리가 있고, B 섬과 C 섬 사이에 다리가 있으면 A 섬과 C 섬은 서로 통행 가능합니다.</p>\n",
    "\n",
    "<p><strong>제한사항</strong></p>\n",
    "\n",
    "<ul>\n",
    "<li>섬의 개수 n은 1 이상 100 이하입니다.</li>\n",
    "<li>costs의 길이는 <code>((n-1) * n) / 2</code>이하입니다.</li>\n",
    "<li>임의의 i에 대해, costs[i][0] 와 costs[i] [1]에는 다리가 연결되는 두 섬의 번호가 들어있고, costs[i] [2]에는 이 두 섬을 연결하는 다리를 건설할 때 드는 비용입니다.</li>\n",
    "<li>같은 연결은 두 번 주어지지 않습니다. 또한 순서가 바뀌더라도 같은 연결로 봅니다. 즉 0과 1 사이를 연결하는 비용이 주어졌을 때, 1과 0의 비용이 주어지지 않습니다.</li>\n",
    "<li>모든 섬 사이의 다리 건설 비용이 주어지지 않습니다. 이 경우, 두 섬 사이의 건설이 불가능한 것으로 봅니다.</li>\n",
    "<li>연결할 수 없는 섬은 주어지지 않습니다.</li>\n",
    "</ul>\n",
    "\n",
    "<p><strong>입출력 예</strong></p>\n",
    "<table class=\"table\">\n",
    "        <thead><tr>\n",
    "<th>n</th>\n",
    "<th>costs</th>\n",
    "<th>return</th>\n",
    "</tr>\n",
    "</thead>\n",
    "        <tbody><tr>\n",
    "<td>4</td>\n",
    "<td>[[0,1,1],[0,2,2],[1,2,5],[1,3,1],[2,3,8]]</td>\n",
    "<td>4</td>\n",
    "</tr>\n",
    "</tbody>\n",
    "      </table>\n",
    "<p><strong>입출력 예 설명</strong></p>\n",
    "\n",
    "<p>costs를 그림으로 표현하면 다음과 같으며, 이때 초록색 경로로 연결하는 것이 가장 적은 비용으로 모두를 통행할 수 있도록 만드는 방법입니다.</p>\n",
    "\n",
    "<p><img src=\"https://grepp-programmers.s3.amazonaws.com/files/production/13e2952057/f2746a8c-527c-4451-9a73-42129911fe17.png\" title=\"\" alt=\"image.png\"></p>\n",
    "</div>\n",
    "      </div>\n",
    "    </div>"
   ]
  },
  {
   "cell_type": "code",
   "execution_count": 23,
   "metadata": {},
   "outputs": [
    {
     "data": {
      "text/plain": [
       "4"
      ]
     },
     "execution_count": 23,
     "metadata": {},
     "output_type": "execute_result"
    }
   ],
   "source": [
    "n = 4 \n",
    "costs = [[0,1,1],[0,2,2],[1,2,5],[1,3,1],[2,3,8]]\n",
    "\n",
    "def find_parent(parent,x):\n",
    "    if parent[x] != x:\n",
    "        parent[x] = find_parent(parent,parent[x])\n",
    "    return parent[x]\n",
    "def union(parent,a,b):\n",
    "    a = find_parent(parent,a)\n",
    "    b = find_parent(parent,b)\n",
    "    if a < b :\n",
    "        parent[b] = a\n",
    "    else:\n",
    "        parent[a] = b \n",
    "\n",
    "def solution(n,costs):\n",
    "    parent = [k for k in range(n)]\n",
    "    costs.sort(key = lambda x: x[2])\n",
    "    answer = 0 \n",
    "    for a,b,c in costs:\n",
    "        if find_parent(parent,a) != find_parent(parent,b):\n",
    "            union(parent,a,b)\n",
    "            answer += c \n",
    "    return answer \n",
    "\n",
    "solution(n,costs)"
   ]
  },
  {
   "cell_type": "code",
   "execution_count": 25,
   "metadata": {},
   "outputs": [
    {
     "name": "stdout",
     "output_type": "stream",
     "text": [
      "{0, 1}\n",
      "{0, 1, 3}\n",
      "{0, 1, 2, 3}\n"
     ]
    },
    {
     "data": {
      "text/plain": [
       "4"
      ]
     },
     "execution_count": 25,
     "metadata": {},
     "output_type": "execute_result"
    }
   ],
   "source": [
    "def solution(n, costs):\n",
    "    answer = 0\n",
    "    costs.sort(key=lambda x:x[2])\n",
    "    connect = set([costs[0][0]])\n",
    "\n",
    "    while len(connect) != n:\n",
    "        for i in costs:\n",
    "            if i[0] in connect and i[1] in connect:\n",
    "                pass\n",
    "            elif i[0] in connect or i[1] in connect:\n",
    "                connect.update([i[0],i[1]])\n",
    "                answer += i[2]\n",
    "                break\n",
    "\n",
    "    return answer \n",
    "\n",
    "solution(n,costs)"
   ]
  },
  {
   "cell_type": "markdown",
   "metadata": {},
   "source": [
    "## 단속카메라\n",
    "<div class=\"markdown solarized-dark\"><p>고속도로를 이동하는 모든 차량이 고속도로를 이용하면서 단속용 카메라를 한 번은 만나도록 카메라를 설치하려고 합니다.</p>\n",
    "\n",
    "<p>고속도로를 이동하는 차량의 경로 routes가 매개변수로 주어질 때, 모든 차량이 한 번은 단속용 카메라를 만나도록 하려면 최소 몇 대의 카메라를 설치해야 하는지를 return 하도록 solution 함수를 완성하세요.</p>\n",
    "\n",
    "<p><strong>제한사항</strong></p>\n",
    "\n",
    "<ul>\n",
    "<li>차량의 대수는 1대 이상 10,000대 이하입니다.</li>\n",
    "<li>routes에는 차량의 이동 경로가 포함되어 있으며 routes[i][0]에는 i번째 차량이 고속도로에 진입한 지점, routes[i][1]에는 i번째 차량이 고속도로에서 나간 지점이 적혀 있습니다.</li>\n",
    "<li>차량의 진입/진출 지점에 카메라가 설치되어 있어도 카메라를 만난것으로 간주합니다.</li>\n",
    "<li>차량의 진입 지점, 진출 지점은 -30,000 이상 30,000 이하입니다.</li>\n",
    "</ul>\n",
    "\n",
    "<p><strong>입출력 예</strong></p>\n",
    "<table class=\"table\">\n",
    "        <thead><tr>\n",
    "<th>routes</th>\n",
    "<th>return</th>\n",
    "</tr>\n",
    "</thead>\n",
    "        <tbody><tr>\n",
    "<td>[[-20,-15], [-14,-5], [-18,-13], [-5,-3]]</td>\n",
    "<td>2</td>\n",
    "</tr>\n",
    "</tbody>\n",
    "      </table>\n",
    "<p><strong>입출력 예 설명</strong></p>\n",
    "\n",
    "<p>-5 지점에 카메라를 설치하면 두 번째, 네 번째 차량이 카메라를 만납니다.</p>\n",
    "\n",
    "<p>-15 지점에 카메라를 설치하면 첫 번째, 세 번째 차량이 카메라를 만납니다.</p>\n",
    "</div>\n",
    "      </div>\n",
    "    </div>"
   ]
  },
  {
   "cell_type": "code",
   "execution_count": 27,
   "metadata": {},
   "outputs": [],
   "source": [
    "from collections import deque\n",
    "routes = [[-20,-15], [-14,-5], [-18,-13], [-5,-3]]\n",
    "routes.sort(key = lambda x : x[1])\n",
    "\n",
    "cctv = [routes[0][1]]\n",
    "\n",
    "for i in routes[1:]:\n",
    "    if i[0]>cctv[-1] or i[1]<cctv[-1]:\n",
    "        continue\n",
    "    else :\n",
    "        cctv.append(i[1])"
   ]
  },
  {
   "cell_type": "code",
   "execution_count": 274,
   "metadata": {},
   "outputs": [
    {
     "name": "stdout",
     "output_type": "stream",
     "text": [
      "deque([[-18, -13], [-14, -5], [-13, -3]])\n",
      "deque([[-14, -5], [-13, -3]])\n",
      "deque([[-13, -3]])\n"
     ]
    },
    {
     "data": {
      "text/plain": [
       "2"
      ]
     },
     "execution_count": 274,
     "metadata": {},
     "output_type": "execute_result"
    }
   ],
   "source": [
    "from collections import deque\n",
    "\n",
    "routes = [[-20,-15], [-14,-5], [-18,-13], [-13,-3]]\t\n",
    "routes.sort(key = lambda x:x[1])\n",
    "q = deque(routes)\n",
    "camera = q.popleft()[1]\n",
    "answer = 1\n",
    "while q:\n",
    "    print(q)\n",
    "    if q[0][0] <= camera and q[0][1]>=camera:\n",
    "        q.popleft()\n",
    "    else:\n",
    "        camera = q.popleft()[1]\n",
    "        answer +=1 \n",
    "answer"
   ]
  }
 ],
 "metadata": {
  "kernelspec": {
   "display_name": "base",
   "language": "python",
   "name": "python3"
  },
  "language_info": {
   "codemirror_mode": {
    "name": "ipython",
    "version": 3
   },
   "file_extension": ".py",
   "mimetype": "text/x-python",
   "name": "python",
   "nbconvert_exporter": "python",
   "pygments_lexer": "ipython3",
   "version": "3.9.6"
  }
 },
 "nbformat": 4,
 "nbformat_minor": 2
}
