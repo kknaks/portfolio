{
 "cells": [
  {
   "cell_type": "markdown",
   "metadata": {},
   "source": [
    "# 교재 문제"
   ]
  },
  {
   "cell_type": "markdown",
   "metadata": {},
   "source": [
    "## 개선된 다익스트라 알고리즘"
   ]
  },
  {
   "cell_type": "code",
   "execution_count": 3,
   "metadata": {},
   "outputs": [
    {
     "name": "stdout",
     "output_type": "stream",
     "text": [
      "(2, 2)\n",
      "(3, 5)\n",
      "(4, 1)\n",
      "(3, 3)\n",
      "(5, 1)\n",
      "(3, 3)\n",
      "(4, 2)\n",
      "(3, 1)\n",
      "(6, 2)\n",
      "(2, 3)\n",
      "(6, 5)\n",
      "(2, 3)\n",
      "(6, 5)\n",
      "(2, 3)\n",
      "(6, 5)\n",
      "0\n",
      "2\n",
      "3\n",
      "1\n",
      "2\n",
      "4\n"
     ]
    }
   ],
   "source": [
    "import heapq as hq\n",
    "\n",
    "n, m = 6, 11\n",
    "start = 1\n",
    "route =[[1,2,2],[1,3,5],[1,4,1],[2,3,3],[2,4,2],[3,2,3],[3,6,5],[4,3,3],[4,5,1],[5,3,1],[5,6,2]]\n",
    "\n",
    "inf = int(1e9)\n",
    "distance = [inf]*(n+1)\n",
    "graph = [[] for _ in range(n+1)]\n",
    "\n",
    "for x,y,d in route:\n",
    "    graph[x].append((y,d))\n",
    "\n",
    "def dijkstra(start):\n",
    "    q = [] \n",
    "    hq.heappush(q,(0,start))\n",
    "    distance[start] = 0\n",
    "    while q: \n",
    "        d,now = hq.heappop(q)\n",
    "        if distance[now]>d:\n",
    "            continue\n",
    "        for i in graph[now]:\n",
    "            print(i)\n",
    "            dist = d + i[1]\n",
    "            if dist < distance[i[0]]:\n",
    "                distance[i[0]] = dist\n",
    "                hq.heappush(q,(dist,i[0]))\n",
    "\n",
    "dijkstra(start)\n",
    "for i in range(1,n+1):\n",
    "    if distance[i] == inf:\n",
    "        print(-1)\n",
    "    else:\n",
    "        print(distance[i])"
   ]
  },
  {
   "cell_type": "markdown",
   "metadata": {},
   "source": [
    "## 미래도시"
   ]
  },
  {
   "cell_type": "code",
   "execution_count": 13,
   "metadata": {},
   "outputs": [
    {
     "name": "stdout",
     "output_type": "stream",
     "text": [
      "3\n"
     ]
    }
   ],
   "source": [
    "n = 5\n",
    "m = 7\n",
    "start = 1\n",
    "co, so = 4,5\n",
    "route = [[1,2],[1,3],[1,4],[2,4],[3,4],[3,5],[4,5]]\n",
    "\n",
    "inf = 1000000000\n",
    "graph = [[inf]*(n+1) for _ in range(n+1)]\n",
    "\n",
    "for i in range(1,n+1):\n",
    "    for j in range(1,n+1):\n",
    "        if i == j :\n",
    "            graph[i][j] = 0 \n",
    "        elif [i,j] in route:\n",
    "            graph[i][j] = 1\n",
    "            graph[j][i] = 1 \n",
    "for k in range(1,n+1):\n",
    "    for a in range(1,n+1):\n",
    "        for b in range(1,n+1):\n",
    "            graph[a][b] = min(graph[a][b],graph[a][k]+graph[k][b])\n",
    "distance = graph[1][so] + graph[so][co]\n",
    "\n",
    "answer = distance if distance<inf else -1\n",
    "print(answer)\n",
    "\n"
   ]
  },
  {
   "cell_type": "markdown",
   "metadata": {},
   "source": [
    "## 전보"
   ]
  },
  {
   "cell_type": "code",
   "execution_count": 35,
   "metadata": {},
   "outputs": [
    {
     "name": "stdout",
     "output_type": "stream",
     "text": [
      "2 4\n"
     ]
    }
   ],
   "source": [
    "n,m,c = 3,2,1\n",
    "route = [[1,2,4],[1,3,2]]\n",
    "\n",
    "import heapq as hq \n",
    "inf = int(1e9)\n",
    "\n",
    "time = [inf]*(n+1)\n",
    "graph = [[]*(n+1) for _ in range(n+1)]\n",
    "\n",
    "for a,b,t in route:\n",
    "    graph[a].append((b,t))\n",
    "\n",
    "q = []\n",
    "hq.heappush(q,(0,c))\n",
    "time[c] = 0 \n",
    "while q:\n",
    "    t, now = hq.heappop(q)\n",
    "    if time[now] < t :\n",
    "        continue\n",
    "    for i in graph[now]:\n",
    "        tt = t + i[1]\n",
    "        if tt < time[i[0]]:\n",
    "            time[i[0]] = tt \n",
    "            hq.heappush(q,(tt,i[0]))\n",
    "total_c = 0\n",
    "total_t =0 \n",
    "for i in time:\n",
    "    if i > 0 and i<inf :\n",
    "        total_c +=1\n",
    "        total_t = max(total_t,i)\n",
    "print(total_c,total_t)"
   ]
  },
  {
   "cell_type": "markdown",
   "metadata": {},
   "source": [
    "## 플로이드 \n",
    "<p>n(2&nbsp;&le; n &le; 100)개의 도시가 있다. 그리고 한 도시에서 출발하여 다른 도시에 도착하는 m(1 &le; m &le; 100,000)개의 버스가 있다. 각 버스는 한 번 사용할 때 필요한 비용이 있다.</p>\n",
    "\n",
    "<p>모든 도시의 쌍 (A, B)에 대해서 도시 A에서 B로 가는데 필요한 비용의 최솟값을 구하는 프로그램을 작성하시오.</p>\n",
    "\n",
    "<p>입력\n",
    "<p>첫째 줄에 도시의 개수 n이 주어지고 둘째 줄에는 버스의 개수 m이 주어진다. 그리고 셋째 줄부터 m+2줄까지 다음과 같은 버스의 정보가 주어진다. 먼저 처음에는 그 버스의 출발 도시의 번호가 주어진다. 버스의 정보는 버스의 시작 도시 a, 도착 도시 b, 한 번 타는데 필요한 비용 c로 이루어져 있다. 시작 도시와 도착 도시가 같은 경우는 없다. 비용은 100,000보다 작거나 같은 자연수이다.</p>\n",
    "\n",
    "<p>시작 도시와 도착 도시를 연결하는 노선은 하나가 아닐 수 있다.</p>\n",
    "\n",
    "<p>출력\n",
    "\n",
    "<p>n개의 줄을 출력해야 한다. i번째 줄에 출력하는 j번째 숫자는 도시 i에서 j로 가는데 필요한 최소 비용이다. 만약, i에서 j로 갈 수 없는 경우에는 그 자리에 0을 출력한다.</p>\n"
   ]
  },
  {
   "cell_type": "code",
   "execution_count": 41,
   "metadata": {},
   "outputs": [
    {
     "name": "stdout",
     "output_type": "stream",
     "text": [
      "[0, 2, 3, 1, 4]\n",
      "[12, 0, 15, 2, 5]\n",
      "[8, 5, 0, 1, 1]\n",
      "[10, 7, 13, 0, 3]\n",
      "[7, 4, 10, 6, 0]\n"
     ]
    }
   ],
   "source": [
    "n = 5\n",
    "m = 14\n",
    "route = [\n",
    "    [1, 2, 2],\n",
    "    [1, 3, 3],\n",
    "    [1, 4, 1],\n",
    "    [1, 5, 10],\n",
    "    [2, 4, 2],\n",
    "    [3, 4, 1],\n",
    "    [3, 5, 1],\n",
    "    [4, 5, 3],\n",
    "    [3, 5, 10],\n",
    "    [3, 1, 8],\n",
    "    [1, 4, 2],\n",
    "    [5, 1, 7],\n",
    "    [3, 4, 2],\n",
    "    [5, 2, 4]]\n",
    "\n",
    "inf = int(1e9)\n",
    "cost = [[inf]*(n+1) for _ in range(n+1)]\n",
    "for i in range(1,n+1):\n",
    "    for j in range(1,n+1):\n",
    "        if i == j :\n",
    "            cost[i][j] = 0 \n",
    "for a,b,c in route:\n",
    "    cost[a][b] = min(cost[a][b],c)\n",
    "\n",
    "for k in range(1,n+1):\n",
    "    for a in range(1,n+1):\n",
    "        for b in range(1,n+1):\n",
    "            cost[a][b] = min(cost[a][b],cost[a][k]+cost[k][b])\n",
    "for i in range(1,n+1):\n",
    "    print(cost[i][1:])"
   ]
  },
  {
   "cell_type": "markdown",
   "metadata": {},
   "source": [
    "## 정확한 순위\n",
    "<p>학생들의 성적을 비교한 결과가 주어질 때, 성적 순위를 정확히 알 수 있는 학생은 모두 몇 명인지 계산하는 프로그램을 작성하세요.</p>\n",
    "<p>첫째 줄에 학생들의 수 N, 두 학생의 성적을 비교한 횟수 M<br />\n",
    "다음 M개의 각 줄에는 두 학생의 성적을 비교한 결과를 나타내는 두 양의 정수 A와 B가 주어집니다. 이는 A번 학생의 성적이 B번 학생보다 낮다는 것을 의미합니다.</p>\n",
    "<h4 id=\"입력-예시\">입력 예시</h4>\n",
    "<p>6 6<br />\n",
    "1 5<br />\n",
    "3 4<br />\n",
    "4 2<br />\n",
    "4 6<br />\n",
    "5 2<br />\n",
    "5 4</p>\n",
    "<h4 id=\"출력-예시\">출력 예시</h4>\n",
    "<p>1</p>"
   ]
  },
  {
   "cell_type": "markdown",
   "metadata": {},
   "source": [
    "## 화성탐사\n",
    "<p>화성 탐사 기계가 존재하는 공간은 N x N 2차원 공간이며 각각의 칸을 지나기 위한 비용이 존재한다. 가장 왼쪽 칸에서 가장 오른쪽 아래 칸인 위치로 이동하는 최소 비용을 출력하는 프로그램을 작성하세요"
   ]
  },
  {
   "cell_type": "code",
   "execution_count": 72,
   "metadata": {},
   "outputs": [
    {
     "data": {
      "text/plain": [
       "[[5, 10, 14], [8, 17, 15], [11, 13, 20]]"
      ]
     },
     "execution_count": 72,
     "metadata": {},
     "output_type": "execute_result"
    }
   ],
   "source": [
    "n=3 \n",
    "maps = [\n",
    "    [5,5,4],\n",
    "    [3,9,1],\n",
    "    [3,2,7]\n",
    "]\n",
    "\n",
    "import heapq as hq \n",
    "inf = int(1e9)\n",
    "\n",
    "dx = [1,0,-1,0]\n",
    "dy = [0,-1,0,1]\n",
    "\n",
    "distance = [[inf]*n for _ in range(n)]\n",
    "x,y = 0, 0\n",
    "q = [(maps[x][y],x,y)]\n",
    "distance[x][y] = maps[x][y]\n",
    "\n",
    "while q: \n",
    "    dist, x, y = hq.heappop(q)\n",
    "    if distance[x][y] < dist:\n",
    "        continue\n",
    "    for i in range(4):\n",
    "        nx = x + dx[i]\n",
    "        ny = y + dy[i]\n",
    "        if nx >=n or nx< 0 or ny>=n or ny<0:\n",
    "            continue\n",
    "        cost = dist + maps[nx][ny]\n",
    "\n",
    "        if cost < distance[nx][ny]:\n",
    "            distance[nx][ny] = cost\n",
    "            hq.heappush(q,(cost,nx,ny))\n",
    "distance"
   ]
  },
  {
   "cell_type": "markdown",
   "metadata": {},
   "source": [
    "## 숨박꼭질"
   ]
  },
  {
   "cell_type": "code",
   "execution_count": 91,
   "metadata": {},
   "outputs": [
    {
     "name": "stdout",
     "output_type": "stream",
     "text": [
      "4 2 3\n"
     ]
    }
   ],
   "source": [
    "n,m = 6,7\n",
    "route = [\n",
    "    [3,6],\n",
    "    [4,3],\n",
    "    [3,2],\n",
    "    [1,3],\n",
    "    [1,2],\n",
    "    [2,4],\n",
    "    [5,2]\n",
    "]\n",
    "import heapq as hq \n",
    "\n",
    "inf = int(1e9)\n",
    "distance = [inf]*(n+1)\n",
    "distance[1] = 0 \n",
    "graph = [[] *(n+1) for _ in range(n+1)]\n",
    "for a,b in route:\n",
    "    graph[a].append(b)\n",
    "    graph[b].append(a)\n",
    "\n",
    "q = []\n",
    "hq.heappush(q,(0,1))\n",
    "while q:\n",
    "    dist, now = hq.heappop(q)\n",
    "    if dist > distance[now]:\n",
    "        continue\n",
    "    for i in graph[now]:\n",
    "        d = dist + 1\n",
    "        if distance[i] > d:\n",
    "            distance[i] = d \n",
    "            hq.heappush(q,(d,i))\n",
    "\n",
    "max_d = max(distance[1:])\n",
    "n_len = distance.count(max_d)\n",
    "max_n = distance.index(max_d)\n",
    "print(max_n,max_d,n_len)\n",
    "\n"
   ]
  }
 ],
 "metadata": {
  "kernelspec": {
   "display_name": "base",
   "language": "python",
   "name": "python3"
  },
  "language_info": {
   "codemirror_mode": {
    "name": "ipython",
    "version": 3
   },
   "file_extension": ".py",
   "mimetype": "text/x-python",
   "name": "python",
   "nbconvert_exporter": "python",
   "pygments_lexer": "ipython3",
   "version": "3.10.9"
  }
 },
 "nbformat": 4,
 "nbformat_minor": 2
}
