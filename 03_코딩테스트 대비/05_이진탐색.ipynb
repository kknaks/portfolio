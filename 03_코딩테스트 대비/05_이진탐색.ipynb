{
 "cells": [
  {
   "cell_type": "markdown",
   "metadata": {},
   "source": [
    "# 교재 문제"
   ]
  },
  {
   "cell_type": "markdown",
   "metadata": {},
   "source": [
    "## 떡 자르기\n"
   ]
  },
  {
   "cell_type": "code",
   "execution_count": 74,
   "metadata": {},
   "outputs": [
    {
     "data": {
      "text/plain": [
       "15"
      ]
     },
     "execution_count": 74,
     "metadata": {},
     "output_type": "execute_result"
    }
   ],
   "source": [
    "n,m = 4, 6 \n",
    "arr = [19,15,10,17]\n",
    "arr.sort()\n",
    "\n",
    "start = min(arr)\n",
    "end = max(arr)\n",
    "while start <= end :\n",
    "    mid = (start+end)//2 # mid = 14 \n",
    "    result = 0 \n",
    "    for i in range(n):\n",
    "        if arr[i] > mid:\n",
    "            result += arr[i] - mid # 1 3 5 \n",
    "    if result >= m :\n",
    "        answer = mid\n",
    "        start = mid + 1\n",
    "    elif result < m : \n",
    "        end = mid -1  \n",
    "answer "
   ]
  },
  {
   "cell_type": "markdown",
   "metadata": {},
   "source": [
    "## 정렬된 배열에서 특정수의 개수 구하기"
   ]
  },
  {
   "cell_type": "code",
   "execution_count": 4,
   "metadata": {},
   "outputs": [
    {
     "name": "stdout",
     "output_type": "stream",
     "text": [
      "4\n"
     ]
    }
   ],
   "source": [
    "n,x = 7,2 \n",
    "arr = [1,1,2,2,2,2,3,3]\n",
    "\n",
    "from bisect import bisect_right,bisect_left\n",
    "\n",
    "r = bisect_right(arr,2)\n",
    "l = bisect_left(arr,2)\n",
    "print(r-l)\n"
   ]
  },
  {
   "cell_type": "markdown",
   "metadata": {},
   "source": [
    "## 고정점 찾기\n"
   ]
  },
  {
   "cell_type": "code",
   "execution_count": 10,
   "metadata": {},
   "outputs": [
    {
     "name": "stdout",
     "output_type": "stream",
     "text": [
      "2\n"
     ]
    }
   ],
   "source": [
    "n = 7\n",
    "arr =[-15,-4,2,8,9,13,15]\n",
    "\n",
    "start = 0 \n",
    "end = n\n",
    "det = False\n",
    "while start <= end :\n",
    "    mid = (start + end)//2\n",
    "    if arr[mid] == mid :\n",
    "        print(mid)\n",
    "        det = True\n",
    "        break\n",
    "    elif arr[mid] < mid :\n",
    "        start = mid +1 \n",
    "    else :\n",
    "        end = mid - 1\n",
    "if not det :\n",
    "    print(-1)"
   ]
  },
  {
   "cell_type": "markdown",
   "metadata": {},
   "source": [
    "## 공유기 설치\n",
    "<p>도현이의 집 N개가 수직선 위에 있다. 각각의 집의 좌표는 x<sub>1</sub>, ..., x<sub>N</sub>이고, 집 여러개가 같은 좌표를 가지는 일은 없다.</p>\n",
    "\n",
    "<p>도현이는 언제 어디서나 와이파이를 즐기기 위해서 집에 공유기 C개를 설치하려고 한다. 최대한 많은 곳에서 와이파이를 사용하려고 하기 때문에, 한 집에는 공유기를 하나만 설치할 수 있고, 가장 인접한 두 공유기 사이의 거리를 가능한 크게 하여 설치하려고 한다.</p>\n",
    "\n",
    "<p>C개의 공유기를 N개의 집에 적당히 설치해서, 가장 인접한 두 공유기 사이의 거리를 최대로 하는 프로그램을 작성하시오.</p>\n",
    "\n",
    "</div>\n",
    "</section>\n",
    "</div>\n",
    "<div class=\"col-md-12\">\n",
    "<section id=\"input\"  class=\"problem-section\">\n",
    "<div class=\"headline\">\n",
    "<h2>입력</h2>\n",
    "</div>\n",
    "<div id=\"problem_input\" class=\"problem-text\">\n",
    "<p>첫째 줄에 집의 개수 N (2 &le; N &le; 200,000)과 공유기의 개수 C (2 &le; C &le; N)이 하나 이상의 빈 칸을 사이에 두고 주어진다. 둘째 줄부터 N개의 줄에는 집의 좌표를 나타내는 x<sub>i</sub> (0 &le; x<sub>i</sub> &le; 1,000,000,000)가 한 줄에 하나씩 주어진다.</p>\n",
    "\n",
    "</div>\n",
    "</section>\n",
    "</div>\n",
    "\n",
    "<div class=\"col-md-12\">\n",
    "<section id=\"output\"  class=\"problem-section\">\n",
    "<div class=\"headline\">\n",
    "<h2>출력</h2>\n",
    "</div>\n",
    "<div id=\"problem_output\" class=\"problem-text\">\n",
    "<p>첫째 줄에 가장 인접한 두 공유기 사이의 최대 거리를 출력한다.</p>\n",
    "\n",
    "</div>\n",
    "</section>\n",
    "</div>\n",
    "<div class=\"col-md-12\">\n",
    "<section id=\"limit\" style=\"display:none;\" class=\"problem-section\">\n",
    "<div class=\"headline\">\n",
    "<h2>제한</h2>\n",
    "</div>\n",
    "<div id=\"problem_limit\" class=\"problem-text\">\n",
    "</div>\n",
    "</section>\n",
    "</div>"
   ]
  },
  {
   "cell_type": "code",
   "execution_count": 14,
   "metadata": {},
   "outputs": [
    {
     "data": {
      "text/plain": [
       "3"
      ]
     },
     "execution_count": 14,
     "metadata": {},
     "output_type": "execute_result"
    }
   ],
   "source": [
    "n,c = 5,3\n",
    "home = [1,2,8,4,9]\n",
    "\n",
    "home.sort()\n",
    "\n",
    "start = 1\n",
    "end = home[-1] - home[0]\n",
    "\n",
    "while start <= end:\n",
    "    mid = (start + end)//2 \n",
    "    value = home[0]\n",
    "    count = 1\n",
    "\n",
    "    for i in range(1,n):\n",
    "        if home[i]>=value+mid:\n",
    "            value = home[i]\n",
    "            count +=1\n",
    "    if count >=c :\n",
    "        start = mid +1 \n",
    "    else :\n",
    "        end = mid-1\n",
    "mid"
   ]
  },
  {
   "cell_type": "markdown",
   "metadata": {},
   "source": [
    "## 가사검색 \n",
    "<p>친구들로부터 천재 프로그래머로 불리는 <strong>\"프로도\"</strong>는 음악을 하는 친구로부터 자신이 좋아하는 노래 가사에 사용된 단어들 중에 특정 키워드가 몇 개 포함되어 있는지 궁금하니 프로그램으로 개발해 달라는 제안을 받았습니다.<br>\n",
    "그 제안 사항 중, 키워드는 와일드카드 문자중 하나인 '?'가 포함된 패턴 형태의 문자열을 뜻합니다. 와일드카드 문자인 '?'는 글자 하나를 의미하며, 어떤 문자에도 매치된다고 가정합니다. 예를 들어  <code>&quot;fro??&quot;</code>는 <code>&quot;frodo&quot;</code>, <code>&quot;front&quot;</code>, <code>&quot;frost&quot;</code> 등에 매치되지만 <code>&quot;frame&quot;</code>, <code>&quot;frozen&quot;</code>에는 매치되지 않습니다.</p>\n",
    "\n",
    "<p>가사에 사용된 모든 단어들이 담긴 배열 <code>words</code>와 찾고자 하는 키워드가 담긴 배열 <code>queries</code>가 주어질 때, 각 키워드 별로 매치된 단어가 몇 개인지 <strong>순서대로</strong> 배열에 담아 반환하도록 <code>solution</code> 함수를 완성해 주세요.</p>\n",
    "\n",
    "<h3>가사 단어 제한사항</h3>\n",
    "\n",
    "<ul>\n",
    "<li><code>words</code>의 길이(가사 단어의 개수)는 2 이상 100,000 이하입니다.</li>\n",
    "<li>각 가사 단어의 길이는 1 이상 10,000 이하로 빈 문자열인 경우는 없습니다.</li>\n",
    "<li>전체 가사 단어 길이의 합은 2 이상 1,000,000 이하입니다.</li>\n",
    "<li>가사에 동일 단어가 여러 번 나올 경우 중복을 제거하고 <code>words</code>에는 하나로만 제공됩니다.</li>\n",
    "<li>각 가사 단어는 오직 알파벳 소문자로만 구성되어 있으며, 특수문자나 숫자는 포함하지 않는 것으로 가정합니다.</li>\n",
    "</ul>\n",
    "\n",
    "<h3>검색 키워드 제한사항</h3>\n",
    "\n",
    "<ul>\n",
    "<li><code>queries</code>의 길이(검색 키워드 개수)는 2 이상 100,000 이하입니다.</li>\n",
    "<li>각 검색 키워드의 길이는 1 이상 10,000 이하로 빈 문자열인 경우는 없습니다.</li>\n",
    "<li>전체 검색 키워드 길이의 합은 2 이상 1,000,000 이하입니다.</li>\n",
    "<li>검색 키워드는 중복될 수도 있습니다.</li>\n",
    "<li>각 검색 키워드는 오직 알파벳 소문자와 와일드카드 문자인 <code>&#39;?&#39;</code> 로만 구성되어 있으며, 특수문자나 숫자는 포함하지 않는 것으로 가정합니다.</li>\n",
    "<li>검색 키워드는 와일드카드 문자인 <code>&#39;?&#39;</code>가 하나 이상 포함돼 있으며, <code>&#39;?&#39;</code>는 각 검색 키워드의 접두사 아니면 접미사 중 하나로만 주어집니다.\n",
    "\n",
    "<ul>\n",
    "<li>예를 들어 <code>&quot;??odo&quot;</code>, <code>&quot;fro??&quot;</code>, <code>&quot;?????&quot;</code>는 가능한 키워드입니다.</li>\n",
    "<li>반면에 <code>&quot;frodo&quot;</code>(<code>&#39;?&#39;</code>가 없음), <code>&quot;fr?do&quot;</code>(<code>&#39;?&#39;</code>가 중간에 있음), <code>&quot;?ro??&quot;</code>(<code>&#39;?&#39;</code>가 양쪽에 있음)는 불가능한 키워드입니다.</li>\n",
    "</ul></li>\n",
    "</ul>\n",
    "\n",
    "<h3>입출력 예</h3>\n",
    "<table class=\"table\">\n",
    "        <thead><tr>\n",
    "<th>words</th>\n",
    "<th>queries</th>\n",
    "<th>result</th>\n",
    "</tr>\n",
    "</thead>\n",
    "        <tbody><tr>\n",
    "<td><code>[&quot;frodo&quot;, &quot;front&quot;, &quot;frost&quot;, &quot;frozen&quot;, &quot;frame&quot;, &quot;kakao&quot;]</code></td>\n",
    "<td><code>[&quot;fro??&quot;, &quot;????o&quot;, &quot;fr???&quot;, &quot;fro???&quot;, &quot;pro?&quot;]</code></td>\n",
    "<td><code>[3, 2, 4, 1, 0]</code></td>\n",
    "</tr>\n",
    "</tbody>\n",
    "      </table>\n",
    "<h3>입출력 예에 대한 설명</h3>\n",
    "\n",
    "<ul>\n",
    "<li><code>&quot;fro??&quot;</code>는 <code>&quot;frodo&quot;</code>, <code>&quot;front&quot;</code>, <code>&quot;frost&quot;</code>에 매치되므로 3입니다.</li>\n",
    "<li><code>&quot;????o&quot;</code>는 <code>&quot;frodo&quot;</code>, <code>&quot;kakao&quot;</code>에 매치되므로 2입니다.</li>\n",
    "<li><code>&quot;fr???&quot;</code>는 <code>&quot;frodo&quot;</code>, <code>&quot;front&quot;</code>, <code>&quot;frost&quot;</code>, <code>&quot;frame&quot;</code>에 매치되므로 4입니다.</li>\n",
    "<li><code>&quot;fro???&quot;</code>는 <code>&quot;frozen&quot;</code>에 매치되므로 1입니다.</li>\n",
    "<li><code>&quot;pro?&quot;</code>는 매치되는 가사 단어가 없으므로 0 입니다.</li>\n",
    "</ul>\n",
    "</div>\n",
    "      </div>\n",
    "    </div>\n",
    "\n"
   ]
  },
  {
   "cell_type": "code",
   "execution_count": 43,
   "metadata": {},
   "outputs": [
    {
     "data": {
      "text/plain": [
       "2"
      ]
     },
     "execution_count": 43,
     "metadata": {},
     "output_type": "execute_result"
    }
   ],
   "source": [
    "words = [\"frodo\", \"front\", \"frost\", \"frozen\", \"frame\", \"kakao\"]\t\n",
    "queries = [\"????o\"]\n",
    "\n",
    "from bisect import bisect_right, bisect_left \n",
    "def solution(words,queries):\n",
    "    for i in queries:\n",
    "        n = len(i)\n",
    "        if i[0] != '?':\n",
    "            w = [k for k in words if len(k) == n]\n",
    "        else:\n",
    "            i = i[-1::-1]\n",
    "            w = [k[-1::-1] for k in words if len(k) == n]\n",
    "        w.sort()    \n",
    "        a = bisect_left(w,i.replace('?','a'))\n",
    "        b = bisect_right(w,i.replace('?','z'))\n",
    "        answer = b-a\n",
    "    return answer "
   ]
  },
  {
   "cell_type": "code",
   "execution_count": 66,
   "metadata": {},
   "outputs": [
    {
     "data": {
      "text/plain": [
       "[[], [], [], [], [], ['frodo', 'front', 'frost', 'frame', 'kakao'], ['frozen']]"
      ]
     },
     "execution_count": 66,
     "metadata": {},
     "output_type": "execute_result"
    }
   ],
   "source": [
    "from bisect import bisect_right, bisect_left \n",
    "def count_by_range(a,left_value,right_value):\n",
    "    right_idx = bisect_right(a,right_value)\n",
    "    left_idx = bisect_left(a,left_value)\n",
    "    return right_idx - left_idx\n",
    "\n",
    "def solution(words,queries):\n",
    "    w = [[]for _ in range(10001)]\n",
    "    w_re = [[]for _ in range(10001)]\n",
    "    answer = []\n",
    "\n",
    "    for word in words:\n",
    "        w[len(word)].append(word)\n",
    "        w_re[len(word)].append(word[::-1])\n",
    "\n",
    "    \n",
    "    for i in range(10001):\n",
    "        w[i].sort()\n",
    "        w_re[i].sort()\n",
    "        \n",
    "    for i in queries:\n",
    "        n = len(i)\n",
    "        if i[0] != '?':\n",
    "            result = count_by_range(w[n],i.replace('?','a'),i.replace('?','z'))\n",
    "        else:\n",
    "            result = count_by_range(w_re[n],i[-1::-1].replace('?','a'),i[-1::-1].replace('?','z'))\n",
    "        answer.append(result)\n",
    "    return answer "
   ]
  }
 ],
 "metadata": {
  "kernelspec": {
   "display_name": "base",
   "language": "python",
   "name": "python3"
  },
  "language_info": {
   "codemirror_mode": {
    "name": "ipython",
    "version": 3
   },
   "file_extension": ".py",
   "mimetype": "text/x-python",
   "name": "python",
   "nbconvert_exporter": "python",
   "pygments_lexer": "ipython3",
   "version": "3.10.9"
  }
 },
 "nbformat": 4,
 "nbformat_minor": 2
}
