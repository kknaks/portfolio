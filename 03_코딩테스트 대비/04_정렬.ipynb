{
 "cells": [
  {
   "cell_type": "markdown",
   "metadata": {},
   "source": [
    "# 교재 문제"
   ]
  },
  {
   "cell_type": "markdown",
   "metadata": {},
   "source": [
    "## 국영수\n",
    "\n",
    "<p>도현이네 반 학생 N명의 이름과 국어, 영어, 수학 점수가&nbsp;주어진다. 이때, 다음과 같은 조건으로 학생의 성적을 정렬하는 프로그램을 작성하시오.</p>\n",
    "\n",
    "<ol>\n",
    "<li>국어 점수가 감소하는 순서로</li>\n",
    "<li>국어 점수가 같으면 영어 점수가 증가하는 순서로</li>\n",
    "<li>국어 점수와 영어 점수가 같으면 수학 점수가 감소하는 순서로</li>\n",
    "<li>모든 점수가 같으면 이름이 사전 순으로 증가하는 순서로 (단, 아스키 코드에서 대문자는 소문자보다 작으므로 사전순으로 앞에 온다.)</li>\n",
    "</ol>\n",
    "\n",
    "</div>\n",
    "</section>\n",
    "</div>\n",
    "<div class=\"col-md-12\">\n",
    "<section id=\"input\"  class=\"problem-section\">\n",
    "<div class=\"headline\">\n",
    "<h2>입력</h2>\n",
    "</div>\n",
    "<div id=\"problem_input\" class=\"problem-text\">\n",
    "<p>첫째 줄에 도현이네 반의 학생의 수 N (1 &le; N &le; 100,000)이 주어진다. 둘째 줄부터 한 줄에 하나씩 각 학생의 이름, 국어, 영어, 수학 점수가 공백으로 구분해 주어진다. 점수는 1보다 크거나 같고, 100보다 작거나 같은 자연수이다. 이름은 알파벳 대소문자로 이루어진 문자열이고, 길이는 10자리를 넘지 않는다.</p>\n",
    "\n",
    "</div>\n",
    "</section>\n",
    "</div>\n",
    "\n",
    "<div class=\"col-md-12\">\n",
    "<section id=\"output\"  class=\"problem-section\">\n",
    "<div class=\"headline\">\n",
    "<h2>출력</h2>\n",
    "</div>\n",
    "<div id=\"problem_output\" class=\"problem-text\">\n",
    "<p>문제에 나와있는 정렬 기준으로 정렬한 후&nbsp;첫째 줄부터 N개의 줄에 걸쳐 각 학생의 이름을 출력한다.</p>\n",
    "\n",
    "</div>\n",
    "</section>\n",
    "</div>\n",
    "<div class=\"col-md-12\">\n",
    "<section id=\"limit\" style=\"display:none;\" class=\"problem-section\">\n",
    "<div class=\"headline\">\n",
    "<h2>제한</h2>\n",
    "</div>\n",
    "<div id=\"problem_limit\" class=\"problem-text\">\n",
    "</div>\n",
    "</section>\n",
    "</div>\n",
    "<div class=\"col-md-12\">\n",
    "<div class=\"row\">\n",
    "<div class=\"col-md-6\">\n",
    "<section id=\"sampleinput1\">\n",
    "<div class=\"headline\">"
   ]
  },
  {
   "cell_type": "code",
   "execution_count": 10,
   "metadata": {},
   "outputs": [
    {
     "data": {
      "text/plain": [
       "[['Donghyuk', 80, 60, 100],\n",
       " ['Sangkeun', 80, 60, 50],\n",
       " ['Sunyoung', 80, 70, 100],\n",
       " ['nsj', 80, 80, 80],\n",
       " ['Wonseob', 70, 70, 90],\n",
       " ['Sanghyun', 70, 70, 80],\n",
       " ['Sei', 70, 70, 70],\n",
       " ['Kangsoo', 60, 80, 100],\n",
       " ['Haebin', 50, 60, 100],\n",
       " ['Junkyu', 50, 60, 100],\n",
       " ['Soong', 50, 60, 90],\n",
       " ['Taewhan', 50, 60, 90]]"
      ]
     },
     "execution_count": 10,
     "metadata": {},
     "output_type": "execute_result"
    }
   ],
   "source": [
    "score = [\n",
    "    ['Junkyu', 50, 60, 100],\n",
    "    ['Sangkeun', 80, 60, 50],\n",
    "    ['Sunyoung', 80, 70, 100],\n",
    "    ['Soong', 50, 60, 90],\n",
    "    ['Haebin', 50, 60, 100],\n",
    "    ['Kangsoo', 60, 80, 100],\n",
    "    ['Donghyuk', 80, 60, 100],\n",
    "    ['Sei', 70, 70, 70],\n",
    "    ['Wonseob', 70, 70, 90],\n",
    "    ['Sanghyun', 70, 70, 80],\n",
    "    ['nsj', 80, 80, 80],\n",
    "    ['Taewhan', 50, 60, 90]]\n",
    "\n",
    "sorted(score, key = lambda x : ((-x[1]),x[2],-x[3],x[0]))\n"
   ]
  },
  {
   "cell_type": "markdown",
   "metadata": {},
   "source": [
    "## 안테나\n",
    "<p>일직선 상의 마을에 여러 채의 집이 위치해 있다. 이중에서 특정 위치의 집에 특별히 한 개의 안테나를 설치하기로 결정했다. 효율성을 위해 안테나로부터 모든 집까지의 거리의 총 합이 최소가 되도록 설치하려고 한다. 이 때 안테나는 집이 위치한 곳에만 설치할 수 있고, 논리적으로 동일한 위치에 여러 개의 집이 존재하는 것이 가능하다.</p>\n",
    "\n",
    "<p>집들의 위치 값이 주어질 때, 안테나를 설치할 위치를 선택하는 프로그램을 작성하시오.</p>\n",
    "\n",
    "<p>예를 들어 <em>N</em>=4이고, 각 위치가 1, 5, 7, 9일 때를 가정하자.</p>\n",
    "\n",
    "<p style=\"text-align: center;\"><img alt=\"\" src=\"https://upload.acmicpc.net/4da9d177-d4d8-4cf7-9f91-a75d5a6ec5e6/-/preview/\" style=\"height: 113px; width: 600px;\" /></p>\n",
    "\n",
    "<p>이 경우 5의 위치에 설치했을 때, 안테나로부터 모든 집까지의 거리의 총 합이 (4+0+2+4)=10으로, 최소가 된다.</p>\n",
    "\n",
    "</div>\n",
    "</section>\n",
    "</div>\n",
    "<div class=\"col-md-12\">\n",
    "<section id=\"input\"  class=\"problem-section\">\n",
    "<div class=\"headline\">\n",
    "<h2>입력</h2>\n",
    "</div>\n",
    "<div id=\"problem_input\" class=\"problem-text\">\n",
    "<p>첫째 줄에 집의 수 <em>N</em>이 자연수로 주어진다.&nbsp;(1&le;<em>N</em>&le;200,000) 둘째 줄에 <em>N</em>채의 집에 위치가 공백을 기준으로 구분되어 1이상 100,000이하의 자연수로 주어진다.</p>\n",
    "\n",
    "</div>\n",
    "</section>\n",
    "</div>\n",
    "\n",
    "<div class=\"col-md-12\">\n",
    "<section id=\"output\"  class=\"problem-section\">\n",
    "<div class=\"headline\">\n",
    "<h2>출력</h2>\n",
    "</div>\n",
    "<div id=\"problem_output\" class=\"problem-text\">\n",
    "<p>첫째 줄에 안테나를 설치할 위치의 값을 출력한다. 단, 안테나를 설치할 수 있는 위치 값으로 여러 개의 값이 도출될 경우 가장 작은 값을 출력한다.</p>\n",
    "\n",
    "</div>"
   ]
  },
  {
   "cell_type": "code",
   "execution_count": 26,
   "metadata": {},
   "outputs": [
    {
     "name": "stdout",
     "output_type": "stream",
     "text": [
      "5\n"
     ]
    }
   ],
   "source": [
    "n = 4\n",
    "home = [5, 1, 7,9]\n",
    "\n",
    "result = []\n",
    "for i in range(n):\n",
    "    dist = 0\n",
    "    for j in range(n):\n",
    "        sub = abs(home[i]-home[j])\n",
    "        dist += sub\n",
    "    result.append([dist,home[i]])\n",
    "result.sort()\n",
    "answer = result[0][1]\n",
    "print(answer)"
   ]
  },
  {
   "cell_type": "markdown",
   "metadata": {},
   "source": [
    "## 실패율</h2>\n",
    "\n",
    "<p><img src=\"https://grepp-programmers.s3.amazonaws.com/files/production/bde471d8ac/48ddf1cc-c4ea-499d-b431-9727ee799191.png\" title=\"\" alt=\"failture_rate1.png\"></p>\n",
    "\n",
    "<p>슈퍼 게임 개발자 오렐리는 큰 고민에 빠졌다. 그녀가 만든 프랜즈 오천성이 대성공을 거뒀지만, 요즘 신규 사용자의 수가 급감한 것이다. 원인은 신규 사용자와 기존 사용자 사이에 스테이지 차이가 너무 큰 것이 문제였다.</p>\n",
    "\n",
    "<p>이 문제를 어떻게 할까 고민 한 그녀는 동적으로 게임 시간을 늘려서 난이도를 조절하기로 했다. 역시 슈퍼 개발자라 대부분의 로직은 쉽게 구현했지만, 실패율을 구하는 부분에서 위기에 빠지고 말았다. 오렐리를 위해 실패율을 구하는 코드를 완성하라.</p>\n",
    "\n",
    "<ul>\n",
    "<li>실패율은 다음과 같이 정의한다.\n",
    "\n",
    "<ul>\n",
    "<li>스테이지에 도달했으나 아직 클리어하지 못한 플레이어의 수 / 스테이지에 도달한 플레이어 수</li>\n",
    "</ul></li>\n",
    "</ul>\n",
    "\n",
    "<p>전체 스테이지의 개수 N, 게임을 이용하는 사용자가 현재 멈춰있는 스테이지의 번호가 담긴 배열 stages가 매개변수로 주어질 때, 실패율이 높은 스테이지부터 내림차순으로 스테이지의 번호가 담겨있는 배열을 return 하도록 solution 함수를 완성하라.</p>\n",
    "\n",
    "<h5>제한사항</h5>\n",
    "\n",
    "<ul>\n",
    "<li>스테이지의 개수 N은 <code>1</code> 이상 <code>500</code> 이하의 자연수이다.</li>\n",
    "<li>stages의 길이는 <code>1</code> 이상 <code>200,000</code> 이하이다.</li>\n",
    "<li>stages에는 <code>1</code> 이상 <code>N + 1</code> 이하의 자연수가 담겨있다.\n",
    "\n",
    "<ul>\n",
    "<li>각 자연수는 사용자가 현재 도전 중인 스테이지의 번호를 나타낸다.</li>\n",
    "<li>단, <code>N + 1</code> 은 마지막 스테이지(N 번째 스테이지) 까지 클리어 한 사용자를 나타낸다.</li>\n",
    "</ul></li>\n",
    "<li>만약 실패율이 같은 스테이지가 있다면 작은 번호의 스테이지가 먼저 오도록 하면 된다.</li>\n",
    "<li>스테이지에 도달한 유저가 없는 경우 해당 스테이지의 실패율은 <code>0</code> 으로 정의한다.</li>\n",
    "</ul>\n",
    "\n",
    "<h5>입출력 예</h5>\n",
    "<table class=\"table\">\n",
    "        <thead><tr>\n",
    "<th>N</th>\n",
    "<th>stages</th>\n",
    "<th>result</th>\n",
    "</tr>\n",
    "</thead>\n",
    "        <tbody><tr>\n",
    "<td>5</td>\n",
    "<td>[2, 1, 2, 6, 2, 4, 3, 3]</td>\n",
    "<td>[3,4,2,1,5]</td>\n",
    "</tr>\n",
    "<tr>\n",
    "<td>4</td>\n",
    "<td>[4,4,4,4,4]</td>\n",
    "<td>[4,1,2,3]</td>\n",
    "</tr>\n",
    "</tbody>\n",
    "      </table>\n",
    "<h5>입출력 예 설명</h5>\n",
    "\n",
    "<p>입출력 예 #1<br>\n",
    "1번 스테이지에는 총 8명의 사용자가 도전했으며, 이 중 1명의 사용자가 아직 클리어하지 못했다. 따라서 1번 스테이지의 실패율은 다음과 같다.</p>\n",
    "\n",
    "<ul>\n",
    "<li>1 번 스테이지 실패율 : 1/8</li>\n",
    "</ul>\n",
    "\n",
    "<p>2번 스테이지에는 총 7명의 사용자가 도전했으며, 이 중 3명의 사용자가 아직 클리어하지 못했다. 따라서 2번 스테이지의 실패율은 다음과 같다.</p>\n",
    "\n",
    "<ul>\n",
    "<li>2 번 스테이지 실패율 : 3/7</li>\n",
    "</ul>\n",
    "\n",
    "<p>마찬가지로 나머지 스테이지의 실패율은 다음과 같다.</p>\n",
    "\n",
    "<ul>\n",
    "<li>3 번 스테이지 실패율 : 2/4</li>\n",
    "<li>4번 스테이지 실패율 : 1/2</li>\n",
    "<li>5번 스테이지 실패율 : 0/1</li>\n",
    "</ul>\n",
    "\n",
    "<p>각 스테이지의 번호를 실패율의 내림차순으로 정렬하면 다음과 같다.</p>\n",
    "\n",
    "<ul>\n",
    "<li>[3,4,2,1,5]</li>\n",
    "</ul>\n",
    "\n",
    "<p>입출력 예 #2</p>\n",
    "\n",
    "<p>모든 사용자가 마지막 스테이지에 있으므로 4번 스테이지의 실패율은 1이며 나머지 스테이지의 실패율은 0이다.</p>\n",
    "\n",
    "<ul>\n",
    "<li>[4,1,2,3]</li>\n",
    "</ul>\n",
    "</div>\n",
    "      </div>\n",
    "    </div>"
   ]
  },
  {
   "cell_type": "code",
   "execution_count": 38,
   "metadata": {},
   "outputs": [
    {
     "data": {
      "text/plain": [
       "[1, 2, 3, 4]"
      ]
     },
     "execution_count": 38,
     "metadata": {},
     "output_type": "execute_result"
    }
   ],
   "source": [
    "N = 4\n",
    "stages = [1,1,1,1]\n",
    "def solution(N, stages):\n",
    "    total = len(stages)\n",
    "    result = [] \n",
    "    for i in range(1,N+1):\n",
    "        failer = stages.count(i)\n",
    "        if failer == 0:\n",
    "            percent = 0 \n",
    "        else:\n",
    "            percent = failer/total \n",
    "        result.append([i,percent])\n",
    "        total -= failer\n",
    "    result.sort(key = lambda x:x[1], reverse = True)\n",
    "    answer = [k[0] for k in result] \n",
    "    return answer\n",
    "solution(N,stages)"
   ]
  },
  {
   "cell_type": "markdown",
   "metadata": {},
   "source": [
    "## 카드정렬하기\n",
    "\n",
    "<p>정렬된 두 묶음의 숫자 카드가 있다고 하자. 각 묶음의 카드의 수를 A, B라 하면 보통 두 묶음을 합쳐서 하나로 만드는 데에는 A+B 번의 비교를 해야 한다. 이를테면, 20장의 숫자 카드 묶음과 30장의 숫자 카드 묶음을 합치려면 50번의 비교가 필요하다.</p>\n",
    "\n",
    "<p>매우 많은 숫자 카드 묶음이 책상 위에 놓여 있다. 이들을 두 묶음씩 골라 서로 합쳐나간다면, 고르는 순서에 따라서 비교 횟수가 매우 달라진다. 예를 들어 10장, 20장, 40장의 묶음이 있다면 10장과 20장을 합친 뒤, 합친 30장 묶음과 40장을 합친다면 (10 + 20) + (30 + 40) = 100번의 비교가 필요하다. 그러나 10장과 40장을 합친 뒤, 합친 50장 묶음과 20장을 합친다면 (10 + 40) + (50 + 20) = 120 번의 비교가 필요하므로 덜 효율적인 방법이다.</p>\n",
    "\n",
    "<p>N개의 숫자 카드 묶음의 각각의 크기가 주어질 때, 최소한 몇 번의 비교가 필요한지를 구하는 프로그램을 작성하시오.</p>\n",
    "\n",
    "</div>\n",
    "</section>\n",
    "</div>\n",
    "<div class=\"col-md-12\">\n",
    "<section id=\"input\"  class=\"problem-section\">\n",
    "<div class=\"headline\">\n",
    "<h2>입력</h2>\n",
    "</div>\n",
    "<div id=\"problem_input\" class=\"problem-text\">\n",
    "<p>첫째 줄에 N이 주어진다. (1 &le; N &le; 100,000) 이어서 N개의 줄에 걸쳐 숫자 카드 묶음의 각각의 크기가 주어진다. 숫자 카드 묶음의 크기는 1,000보다 작거나 같은 양의 정수이다.</p>\n",
    "\n",
    "</div>\n",
    "</section>\n",
    "</div>\n",
    "\n",
    "<div class=\"col-md-12\">\n",
    "<section id=\"output\"  class=\"problem-section\">\n",
    "<div class=\"headline\">\n",
    "<h2>출력</h2>\n",
    "</div>\n",
    "<div id=\"problem_output\" class=\"problem-text\">\n",
    "<p>첫째 줄에 최소 비교 횟수를 출력한다.</p>\n",
    "\n",
    "</div>\n",
    "</section>\n",
    "</div>\n",
    "<div class=\"col-md-12\">\n",
    "<section id=\"limit\" style=\"display:none;\" class=\"problem-section\">\n",
    "<div class=\"headline\">\n",
    "<h2>제한</h2>\n",
    "</div>\n",
    "<div id=\"problem_limit\" class=\"problem-text\">\n",
    "</div>\n",
    "</section>\n",
    "</div>\n",
    "<div class=\"col-md-12\">\n",
    "<div class=\"row\">\n",
    "<div class=\"col-md-6\">\n",
    "<section id=\"sampleinput1\">\n",
    "<div class=\"headline\">\n"
   ]
  },
  {
   "cell_type": "code",
   "execution_count": 78,
   "metadata": {},
   "outputs": [
    {
     "name": "stdout",
     "output_type": "stream",
     "text": [
      "[10, 20, 40] 0\n",
      "[30, 40] 30\n"
     ]
    },
    {
     "data": {
      "text/plain": [
       "100"
      ]
     },
     "execution_count": 78,
     "metadata": {},
     "output_type": "execute_result"
    }
   ],
   "source": [
    "n = 3\n",
    "cards = [10,20,40]\n",
    "\n",
    "import heapq as hq\n",
    "hq.heapify(cards)\n",
    "\n",
    "result = 0\n",
    "while len(cards)!=1:\n",
    "    print(cards,result)\n",
    "\n",
    "    one = hq.heappop(cards)\n",
    "    two = hq.heappop(cards)\n",
    "    sum_v = one+two\n",
    "    result += sum_v\n",
    "    hq.heappush(cards,result)\n",
    "result"
   ]
  },
  {
   "cell_type": "markdown",
   "metadata": {},
   "source": [
    "# 프로그래머스 고득점 킷 "
   ]
  },
  {
   "cell_type": "code",
   "execution_count": null,
   "metadata": {},
   "outputs": [],
   "source": []
  }
 ],
 "metadata": {
  "kernelspec": {
   "display_name": "base",
   "language": "python",
   "name": "python3"
  },
  "language_info": {
   "codemirror_mode": {
    "name": "ipython",
    "version": 3
   },
   "file_extension": ".py",
   "mimetype": "text/x-python",
   "name": "python",
   "nbconvert_exporter": "python",
   "pygments_lexer": "ipython3",
   "version": "3.10.9"
  }
 },
 "nbformat": 4,
 "nbformat_minor": 2
}
