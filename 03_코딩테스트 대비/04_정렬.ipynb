{
 "cells": [
  {
   "cell_type": "markdown",
   "metadata": {},
   "source": [
    "# 교재 문제"
   ]
  },
  {
   "cell_type": "markdown",
   "metadata": {},
   "source": [
    "## 국영수\n",
    "\n",
    "<p>도현이네 반 학생 N명의 이름과 국어, 영어, 수학 점수가&nbsp;주어진다. 이때, 다음과 같은 조건으로 학생의 성적을 정렬하는 프로그램을 작성하시오.</p>\n",
    "\n",
    "<ol>\n",
    "<li>국어 점수가 감소하는 순서로</li>\n",
    "<li>국어 점수가 같으면 영어 점수가 증가하는 순서로</li>\n",
    "<li>국어 점수와 영어 점수가 같으면 수학 점수가 감소하는 순서로</li>\n",
    "<li>모든 점수가 같으면 이름이 사전 순으로 증가하는 순서로 (단, 아스키 코드에서 대문자는 소문자보다 작으므로 사전순으로 앞에 온다.)</li>\n",
    "</ol>\n",
    "\n",
    "</div>\n",
    "</section>\n",
    "</div>\n",
    "<div class=\"col-md-12\">\n",
    "<section id=\"input\"  class=\"problem-section\">\n",
    "<div class=\"headline\">\n",
    "<h2>입력</h2>\n",
    "</div>\n",
    "<div id=\"problem_input\" class=\"problem-text\">\n",
    "<p>첫째 줄에 도현이네 반의 학생의 수 N (1 &le; N &le; 100,000)이 주어진다. 둘째 줄부터 한 줄에 하나씩 각 학생의 이름, 국어, 영어, 수학 점수가 공백으로 구분해 주어진다. 점수는 1보다 크거나 같고, 100보다 작거나 같은 자연수이다. 이름은 알파벳 대소문자로 이루어진 문자열이고, 길이는 10자리를 넘지 않는다.</p>\n",
    "\n",
    "</div>\n",
    "</section>\n",
    "</div>\n",
    "\n",
    "<div class=\"col-md-12\">\n",
    "<section id=\"output\"  class=\"problem-section\">\n",
    "<div class=\"headline\">\n",
    "<h2>출력</h2>\n",
    "</div>\n",
    "<div id=\"problem_output\" class=\"problem-text\">\n",
    "<p>문제에 나와있는 정렬 기준으로 정렬한 후&nbsp;첫째 줄부터 N개의 줄에 걸쳐 각 학생의 이름을 출력한다.</p>\n",
    "\n",
    "</div>\n",
    "</section>\n",
    "</div>\n",
    "<div class=\"col-md-12\">\n",
    "<section id=\"limit\" style=\"display:none;\" class=\"problem-section\">\n",
    "<div class=\"headline\">\n",
    "<h2>제한</h2>\n",
    "</div>\n",
    "<div id=\"problem_limit\" class=\"problem-text\">\n",
    "</div>\n",
    "</section>\n",
    "</div>\n",
    "<div class=\"col-md-12\">\n",
    "<div class=\"row\">\n",
    "<div class=\"col-md-6\">\n",
    "<section id=\"sampleinput1\">\n",
    "<div class=\"headline\">"
   ]
  },
  {
   "cell_type": "code",
   "execution_count": 10,
   "metadata": {},
   "outputs": [
    {
     "data": {
      "text/plain": [
       "[['Donghyuk', 80, 60, 100],\n",
       " ['Sangkeun', 80, 60, 50],\n",
       " ['Sunyoung', 80, 70, 100],\n",
       " ['nsj', 80, 80, 80],\n",
       " ['Wonseob', 70, 70, 90],\n",
       " ['Sanghyun', 70, 70, 80],\n",
       " ['Sei', 70, 70, 70],\n",
       " ['Kangsoo', 60, 80, 100],\n",
       " ['Haebin', 50, 60, 100],\n",
       " ['Junkyu', 50, 60, 100],\n",
       " ['Soong', 50, 60, 90],\n",
       " ['Taewhan', 50, 60, 90]]"
      ]
     },
     "execution_count": 10,
     "metadata": {},
     "output_type": "execute_result"
    }
   ],
   "source": [
    "score = [\n",
    "    ['Junkyu', 50, 60, 100],\n",
    "    ['Sangkeun', 80, 60, 50],\n",
    "    ['Sunyoung', 80, 70, 100],\n",
    "    ['Soong', 50, 60, 90],\n",
    "    ['Haebin', 50, 60, 100],\n",
    "    ['Kangsoo', 60, 80, 100],\n",
    "    ['Donghyuk', 80, 60, 100],\n",
    "    ['Sei', 70, 70, 70],\n",
    "    ['Wonseob', 70, 70, 90],\n",
    "    ['Sanghyun', 70, 70, 80],\n",
    "    ['nsj', 80, 80, 80],\n",
    "    ['Taewhan', 50, 60, 90]]\n",
    "\n",
    "sorted(score, key = lambda x : ((-x[1]),x[2],-x[3],x[0]))\n"
   ]
  },
  {
   "cell_type": "markdown",
   "metadata": {},
   "source": [
    "## 안테나\n",
    "<p>일직선 상의 마을에 여러 채의 집이 위치해 있다. 이중에서 특정 위치의 집에 특별히 한 개의 안테나를 설치하기로 결정했다. 효율성을 위해 안테나로부터 모든 집까지의 거리의 총 합이 최소가 되도록 설치하려고 한다. 이 때 안테나는 집이 위치한 곳에만 설치할 수 있고, 논리적으로 동일한 위치에 여러 개의 집이 존재하는 것이 가능하다.</p>\n",
    "\n",
    "<p>집들의 위치 값이 주어질 때, 안테나를 설치할 위치를 선택하는 프로그램을 작성하시오.</p>\n",
    "\n",
    "<p>예를 들어 <em>N</em>=4이고, 각 위치가 1, 5, 7, 9일 때를 가정하자.</p>\n",
    "\n",
    "<p style=\"text-align: center;\"><img alt=\"\" src=\"https://upload.acmicpc.net/4da9d177-d4d8-4cf7-9f91-a75d5a6ec5e6/-/preview/\" style=\"height: 113px; width: 600px;\" /></p>\n",
    "\n",
    "<p>이 경우 5의 위치에 설치했을 때, 안테나로부터 모든 집까지의 거리의 총 합이 (4+0+2+4)=10으로, 최소가 된다.</p>\n",
    "\n",
    "</div>\n",
    "</section>\n",
    "</div>\n",
    "<div class=\"col-md-12\">\n",
    "<section id=\"input\"  class=\"problem-section\">\n",
    "<div class=\"headline\">\n",
    "<h2>입력</h2>\n",
    "</div>\n",
    "<div id=\"problem_input\" class=\"problem-text\">\n",
    "<p>첫째 줄에 집의 수 <em>N</em>이 자연수로 주어진다.&nbsp;(1&le;<em>N</em>&le;200,000) 둘째 줄에 <em>N</em>채의 집에 위치가 공백을 기준으로 구분되어 1이상 100,000이하의 자연수로 주어진다.</p>\n",
    "\n",
    "</div>\n",
    "</section>\n",
    "</div>\n",
    "\n",
    "<div class=\"col-md-12\">\n",
    "<section id=\"output\"  class=\"problem-section\">\n",
    "<div class=\"headline\">\n",
    "<h2>출력</h2>\n",
    "</div>\n",
    "<div id=\"problem_output\" class=\"problem-text\">\n",
    "<p>첫째 줄에 안테나를 설치할 위치의 값을 출력한다. 단, 안테나를 설치할 수 있는 위치 값으로 여러 개의 값이 도출될 경우 가장 작은 값을 출력한다.</p>\n",
    "\n",
    "</div>"
   ]
  },
  {
   "cell_type": "code",
   "execution_count": 26,
   "metadata": {},
   "outputs": [
    {
     "name": "stdout",
     "output_type": "stream",
     "text": [
      "5\n"
     ]
    }
   ],
   "source": [
    "n = 4\n",
    "home = [5, 1, 7,9]\n",
    "\n",
    "result = []\n",
    "for i in range(n):\n",
    "    dist = 0\n",
    "    for j in range(n):\n",
    "        sub = abs(home[i]-home[j])\n",
    "        dist += sub\n",
    "    result.append([dist,home[i]])\n",
    "result.sort()\n",
    "answer = result[0][1]\n",
    "print(answer)"
   ]
  },
  {
   "cell_type": "markdown",
   "metadata": {},
   "source": [
    "## 실패율</h2>\n",
    "\n",
    "<p><img src=\"https://grepp-programmers.s3.amazonaws.com/files/production/bde471d8ac/48ddf1cc-c4ea-499d-b431-9727ee799191.png\" title=\"\" alt=\"failture_rate1.png\"></p>\n",
    "\n",
    "<p>슈퍼 게임 개발자 오렐리는 큰 고민에 빠졌다. 그녀가 만든 프랜즈 오천성이 대성공을 거뒀지만, 요즘 신규 사용자의 수가 급감한 것이다. 원인은 신규 사용자와 기존 사용자 사이에 스테이지 차이가 너무 큰 것이 문제였다.</p>\n",
    "\n",
    "<p>이 문제를 어떻게 할까 고민 한 그녀는 동적으로 게임 시간을 늘려서 난이도를 조절하기로 했다. 역시 슈퍼 개발자라 대부분의 로직은 쉽게 구현했지만, 실패율을 구하는 부분에서 위기에 빠지고 말았다. 오렐리를 위해 실패율을 구하는 코드를 완성하라.</p>\n",
    "\n",
    "<ul>\n",
    "<li>실패율은 다음과 같이 정의한다.\n",
    "\n",
    "<ul>\n",
    "<li>스테이지에 도달했으나 아직 클리어하지 못한 플레이어의 수 / 스테이지에 도달한 플레이어 수</li>\n",
    "</ul></li>\n",
    "</ul>\n",
    "\n",
    "<p>전체 스테이지의 개수 N, 게임을 이용하는 사용자가 현재 멈춰있는 스테이지의 번호가 담긴 배열 stages가 매개변수로 주어질 때, 실패율이 높은 스테이지부터 내림차순으로 스테이지의 번호가 담겨있는 배열을 return 하도록 solution 함수를 완성하라.</p>\n",
    "\n",
    "<h5>제한사항</h5>\n",
    "\n",
    "<ul>\n",
    "<li>스테이지의 개수 N은 <code>1</code> 이상 <code>500</code> 이하의 자연수이다.</li>\n",
    "<li>stages의 길이는 <code>1</code> 이상 <code>200,000</code> 이하이다.</li>\n",
    "<li>stages에는 <code>1</code> 이상 <code>N + 1</code> 이하의 자연수가 담겨있다.\n",
    "\n",
    "<ul>\n",
    "<li>각 자연수는 사용자가 현재 도전 중인 스테이지의 번호를 나타낸다.</li>\n",
    "<li>단, <code>N + 1</code> 은 마지막 스테이지(N 번째 스테이지) 까지 클리어 한 사용자를 나타낸다.</li>\n",
    "</ul></li>\n",
    "<li>만약 실패율이 같은 스테이지가 있다면 작은 번호의 스테이지가 먼저 오도록 하면 된다.</li>\n",
    "<li>스테이지에 도달한 유저가 없는 경우 해당 스테이지의 실패율은 <code>0</code> 으로 정의한다.</li>\n",
    "</ul>\n",
    "\n",
    "<h5>입출력 예</h5>\n",
    "<table class=\"table\">\n",
    "        <thead><tr>\n",
    "<th>N</th>\n",
    "<th>stages</th>\n",
    "<th>result</th>\n",
    "</tr>\n",
    "</thead>\n",
    "        <tbody><tr>\n",
    "<td>5</td>\n",
    "<td>[2, 1, 2, 6, 2, 4, 3, 3]</td>\n",
    "<td>[3,4,2,1,5]</td>\n",
    "</tr>\n",
    "<tr>\n",
    "<td>4</td>\n",
    "<td>[4,4,4,4,4]</td>\n",
    "<td>[4,1,2,3]</td>\n",
    "</tr>\n",
    "</tbody>\n",
    "      </table>\n",
    "<h5>입출력 예 설명</h5>\n",
    "\n",
    "<p>입출력 예 #1<br>\n",
    "1번 스테이지에는 총 8명의 사용자가 도전했으며, 이 중 1명의 사용자가 아직 클리어하지 못했다. 따라서 1번 스테이지의 실패율은 다음과 같다.</p>\n",
    "\n",
    "<ul>\n",
    "<li>1 번 스테이지 실패율 : 1/8</li>\n",
    "</ul>\n",
    "\n",
    "<p>2번 스테이지에는 총 7명의 사용자가 도전했으며, 이 중 3명의 사용자가 아직 클리어하지 못했다. 따라서 2번 스테이지의 실패율은 다음과 같다.</p>\n",
    "\n",
    "<ul>\n",
    "<li>2 번 스테이지 실패율 : 3/7</li>\n",
    "</ul>\n",
    "\n",
    "<p>마찬가지로 나머지 스테이지의 실패율은 다음과 같다.</p>\n",
    "\n",
    "<ul>\n",
    "<li>3 번 스테이지 실패율 : 2/4</li>\n",
    "<li>4번 스테이지 실패율 : 1/2</li>\n",
    "<li>5번 스테이지 실패율 : 0/1</li>\n",
    "</ul>\n",
    "\n",
    "<p>각 스테이지의 번호를 실패율의 내림차순으로 정렬하면 다음과 같다.</p>\n",
    "\n",
    "<ul>\n",
    "<li>[3,4,2,1,5]</li>\n",
    "</ul>\n",
    "\n",
    "<p>입출력 예 #2</p>\n",
    "\n",
    "<p>모든 사용자가 마지막 스테이지에 있으므로 4번 스테이지의 실패율은 1이며 나머지 스테이지의 실패율은 0이다.</p>\n",
    "\n",
    "<ul>\n",
    "<li>[4,1,2,3]</li>\n",
    "</ul>\n",
    "</div>\n",
    "      </div>\n",
    "    </div>"
   ]
  },
  {
   "cell_type": "code",
   "execution_count": 38,
   "metadata": {},
   "outputs": [
    {
     "data": {
      "text/plain": [
       "[1, 2, 3, 4]"
      ]
     },
     "execution_count": 38,
     "metadata": {},
     "output_type": "execute_result"
    }
   ],
   "source": [
    "N = 4\n",
    "stages = [1,1,1,1]\n",
    "def solution(N, stages):\n",
    "    total = len(stages)\n",
    "    result = [] \n",
    "    for i in range(1,N+1):\n",
    "        failer = stages.count(i)\n",
    "        if failer == 0:\n",
    "            percent = 0 \n",
    "        else:\n",
    "            percent = failer/total \n",
    "        result.append([i,percent])\n",
    "        total -= failer\n",
    "    result.sort(key = lambda x:x[1], reverse = True)\n",
    "    answer = [k[0] for k in result] \n",
    "    return answer\n",
    "solution(N,stages)"
   ]
  },
  {
   "cell_type": "markdown",
   "metadata": {},
   "source": [
    "## 카드정렬하기\n",
    "\n",
    "<p>정렬된 두 묶음의 숫자 카드가 있다고 하자. 각 묶음의 카드의 수를 A, B라 하면 보통 두 묶음을 합쳐서 하나로 만드는 데에는 A+B 번의 비교를 해야 한다. 이를테면, 20장의 숫자 카드 묶음과 30장의 숫자 카드 묶음을 합치려면 50번의 비교가 필요하다.</p>\n",
    "\n",
    "<p>매우 많은 숫자 카드 묶음이 책상 위에 놓여 있다. 이들을 두 묶음씩 골라 서로 합쳐나간다면, 고르는 순서에 따라서 비교 횟수가 매우 달라진다. 예를 들어 10장, 20장, 40장의 묶음이 있다면 10장과 20장을 합친 뒤, 합친 30장 묶음과 40장을 합친다면 (10 + 20) + (30 + 40) = 100번의 비교가 필요하다. 그러나 10장과 40장을 합친 뒤, 합친 50장 묶음과 20장을 합친다면 (10 + 40) + (50 + 20) = 120 번의 비교가 필요하므로 덜 효율적인 방법이다.</p>\n",
    "\n",
    "<p>N개의 숫자 카드 묶음의 각각의 크기가 주어질 때, 최소한 몇 번의 비교가 필요한지를 구하는 프로그램을 작성하시오.</p>\n",
    "\n",
    "</div>\n",
    "</section>\n",
    "</div>\n",
    "<div class=\"col-md-12\">\n",
    "<section id=\"input\"  class=\"problem-section\">\n",
    "<div class=\"headline\">\n",
    "<h2>입력</h2>\n",
    "</div>\n",
    "<div id=\"problem_input\" class=\"problem-text\">\n",
    "<p>첫째 줄에 N이 주어진다. (1 &le; N &le; 100,000) 이어서 N개의 줄에 걸쳐 숫자 카드 묶음의 각각의 크기가 주어진다. 숫자 카드 묶음의 크기는 1,000보다 작거나 같은 양의 정수이다.</p>\n",
    "\n",
    "</div>\n",
    "</section>\n",
    "</div>\n",
    "\n",
    "<div class=\"col-md-12\">\n",
    "<section id=\"output\"  class=\"problem-section\">\n",
    "<div class=\"headline\">\n",
    "<h2>출력</h2>\n",
    "</div>\n",
    "<div id=\"problem_output\" class=\"problem-text\">\n",
    "<p>첫째 줄에 최소 비교 횟수를 출력한다.</p>\n",
    "\n",
    "</div>\n",
    "</section>\n",
    "</div>\n",
    "<div class=\"col-md-12\">\n",
    "<section id=\"limit\" style=\"display:none;\" class=\"problem-section\">\n",
    "<div class=\"headline\">\n",
    "<h2>제한</h2>\n",
    "</div>\n",
    "<div id=\"problem_limit\" class=\"problem-text\">\n",
    "</div>\n",
    "</section>\n",
    "</div>\n",
    "<div class=\"col-md-12\">\n",
    "<div class=\"row\">\n",
    "<div class=\"col-md-6\">\n",
    "<section id=\"sampleinput1\">\n",
    "<div class=\"headline\">\n"
   ]
  },
  {
   "cell_type": "code",
   "execution_count": 78,
   "metadata": {},
   "outputs": [
    {
     "name": "stdout",
     "output_type": "stream",
     "text": [
      "[10, 20, 40] 0\n",
      "[30, 40] 30\n"
     ]
    },
    {
     "data": {
      "text/plain": [
       "100"
      ]
     },
     "execution_count": 78,
     "metadata": {},
     "output_type": "execute_result"
    }
   ],
   "source": [
    "n = 3\n",
    "cards = [10,20,40]\n",
    "\n",
    "import heapq as hq\n",
    "hq.heapify(cards)\n",
    "\n",
    "result = 0\n",
    "while len(cards)!=1:\n",
    "    print(cards,result)\n",
    "\n",
    "    one = hq.heappop(cards)\n",
    "    two = hq.heappop(cards)\n",
    "    sum_v = one+two\n",
    "    result += sum_v\n",
    "    hq.heappush(cards,result)\n",
    "result"
   ]
  },
  {
   "cell_type": "markdown",
   "metadata": {},
   "source": [
    "# 프로그래머스 고득점 킷 "
   ]
  },
  {
   "cell_type": "markdown",
   "metadata": {},
   "source": [
    "## 프로세스\n",
    "<div class=\"markdown solarized-dark\"><p>운영체제의 역할 중 하나는 컴퓨터 시스템의 자원을 효율적으로 관리하는 것입니다. 이 문제에서는 운영체제가 다음 규칙에 따라 프로세스를 관리할 경우 특정 프로세스가 몇 번째로 실행되는지 알아내면 됩니다.</p>\n",
    "<div class=\"highlight\"><pre class=\"codehilite\"><code>1. 실행 대기 큐(Queue)에서 대기중인 프로세스 하나를 꺼냅니다.\n",
    "2. 큐에 대기중인 프로세스 중 우선순위가 더 높은 프로세스가 있다면 방금 꺼낸 프로세스를 다시 큐에 넣습니다.\n",
    "3. 만약 그런 프로세스가 없다면 방금 꺼낸 프로세스를 실행합니다.\n",
    "  3.1 한 번 실행한 프로세스는 다시 큐에 넣지 않고 그대로 종료됩니다.\n",
    "</code></pre></div>\n",
    "<p>예를 들어 프로세스 4개 [A, B, C, D]가 순서대로 실행 대기 큐에 들어있고, 우선순위가 [2, 1, 3, 2]라면 [C, D, A, B] 순으로 실행하게 됩니다. </p>\n",
    "\n",
    "<p>현재 실행 대기 큐(Queue)에 있는 프로세스의 중요도가 순서대로 담긴 배열 <code>priorities</code>와, 몇 번째로 실행되는지 알고싶은 프로세스의 위치를 알려주는 <code>location</code>이 매개변수로 주어질 때, 해당 프로세스가 몇 번째로 실행되는지 return 하도록 solution 함수를 작성해주세요.</p>\n",
    "\n",
    "<hr>\n",
    "\n",
    "<h5>제한사항</h5>\n",
    "\n",
    "<ul>\n",
    "<li><code>priorities</code>의 길이는 1 이상 100 이하입니다.\n",
    "\n",
    "<ul>\n",
    "<li><code>priorities</code>의 원소는 1 이상 9 이하의 정수입니다.</li>\n",
    "<li><code>priorities</code>의 원소는 우선순위를 나타내며 숫자가 클 수록 우선순위가 높습니다.</li>\n",
    "</ul></li>\n",
    "<li><code>location</code>은 0 이상 (대기 큐에 있는 프로세스 수 - 1) 이하의 값을 가집니다.\n",
    "\n",
    "<ul>\n",
    "<li><code>priorities</code>의 가장 앞에 있으면 0, 두 번째에 있으면 1 … 과 같이 표현합니다.</li>\n",
    "</ul></li>\n",
    "</ul>\n",
    "\n",
    "<h5>입출력 예</h5>\n",
    "<table class=\"table\">\n",
    "        <thead><tr>\n",
    "<th>priorities</th>\n",
    "<th>location</th>\n",
    "<th>return</th>\n",
    "</tr>\n",
    "</thead>\n",
    "        <tbody><tr>\n",
    "<td>[2, 1, 3, 2]</td>\n",
    "<td>2</td>\n",
    "<td>1</td>\n",
    "</tr>\n",
    "<tr>\n",
    "<td>[1, 1, 9, 1, 1, 1]</td>\n",
    "<td>0</td>\n",
    "<td>5</td>\n",
    "</tr>\n",
    "</tbody>\n",
    "      </table>\n",
    "<h5>입출력 예 설명</h5>\n",
    "\n",
    "<p>예제 #1</p>\n",
    "\n",
    "<p>문제에 나온 예와 같습니다.</p>\n",
    "\n",
    "<p>예제 #2</p>\n",
    "\n",
    "<p>6개의 프로세스 [A, B, C, D, E, F]가 대기 큐에 있고 중요도가 [1, 1, 9, 1, 1, 1] 이므로 [C, D, E, F, A, B] 순으로 실행됩니다. 따라서 A는 5번째로 실행됩니다.</p>\n"
   ]
  },
  {
   "cell_type": "code",
   "execution_count": 22,
   "metadata": {},
   "outputs": [
    {
     "data": {
      "text/plain": [
       "5"
      ]
     },
     "execution_count": 22,
     "metadata": {},
     "output_type": "execute_result"
    }
   ],
   "source": [
    "priorities = [1, 1, 9, 1, 1, 1]\n",
    "location = 0\n",
    "\n",
    "from collections import deque\n",
    "\n",
    "def solution(priorities, location):\n",
    "    q = []\n",
    "    for idx,i in enumerate(priorities):\n",
    "        q.append([i,idx])\n",
    "    q = deque(q)\n",
    "    cnt = 0 \n",
    "\n",
    "    while q:\n",
    "        cnt +=1 \n",
    "        result = True\n",
    "        p, n = q.popleft()\n",
    "        for i in q:\n",
    "            if i[0] > p:\n",
    "                q.append([p,n])\n",
    "                result = False\n",
    "                cnt -=1 \n",
    "                break\n",
    "        if result and n == location:\n",
    "            return cnt\n",
    "\n",
    "solution(priorities, location)"
   ]
  },
  {
   "cell_type": "code",
   "execution_count": 36,
   "metadata": {},
   "outputs": [
    {
     "name": "stdout",
     "output_type": "stream",
     "text": [
      "deque([(1, 0), (1, 1), (9, 2), (1, 3), (1, 4), (1, 5)])\n",
      "deque([(1, 1), (9, 2), (1, 3), (1, 4), (1, 5), (1, 0)])\n",
      "deque([(9, 2), (1, 3), (1, 4), (1, 5), (1, 0), (1, 1)])\n",
      "deque([(1, 3), (1, 4), (1, 5), (1, 0), (1, 1)])\n",
      "deque([(1, 4), (1, 5), (1, 0), (1, 1)])\n",
      "deque([(1, 5), (1, 0), (1, 1)])\n",
      "deque([(1, 0), (1, 1)])\n"
     ]
    },
    {
     "data": {
      "text/plain": [
       "5"
      ]
     },
     "execution_count": 36,
     "metadata": {},
     "output_type": "execute_result"
    }
   ],
   "source": [
    "priorities = [1, 1, 9, 1, 1, 1]\n",
    "location = 0\n",
    "\n",
    "from collections import deque\n",
    "\n",
    "def solution(priorities, location):\n",
    "    q = [(i,idx) for idx,i in enumerate(priorities)]\n",
    "    q = deque(q)\n",
    "    cnt = 0 \n",
    "    while q:\n",
    "        print(q)\n",
    "        p, n = q.popleft()\n",
    "        if any(k[0]>p for k in q):\n",
    "            q.append((p,n))\n",
    "        else:\n",
    "            cnt +=1\n",
    "            if n == location:\n",
    "                return cnt \n",
    "\n",
    "solution(priorities, location)"
   ]
  },
  {
   "cell_type": "code",
   "execution_count": null,
   "metadata": {},
   "outputs": [],
   "source": [
    "from collections import deque\n",
    "\n",
    "def solution(priorities, location):\n",
    "    q = []\n",
    "    for idx,i in enumerate(priorities):\n",
    "        q.append([i,idx])\n",
    "    q = deque(q)\n",
    "    cnt = 0 \n",
    "\n",
    "    while q:\n",
    "        cnt +=1 \n",
    "        result = True\n",
    "        p, n = q.popleft()\n",
    "        for i in q:\n",
    "            if i[0] > p:\n",
    "                q.append([p,n])\n",
    "                result = False\n",
    "                cnt -=1 \n",
    "                break\n",
    "        if result and n == location:\n",
    "            return cnt"
   ]
  },
  {
   "cell_type": "markdown",
   "metadata": {},
   "source": [
    "## 튜플\n",
    "<div class=\"markdown solarized-dark\"><p>셀수있는 수량의 순서있는 열거 또는 어떤 순서를 따르는 요소들의 모음을 튜플(tuple)이라고 합니다. n개의 요소를 가진 튜플을 n-튜플(n-tuple)이라고 하며, 다음과 같이 표현할 수 있습니다.</p>\n",
    "\n",
    "<ul>\n",
    "<li>(a1, a2, a3, ..., an)</li>\n",
    "</ul>\n",
    "\n",
    "<p>튜플은 다음과 같은 성질을 가지고 있습니다.</p>\n",
    "\n",
    "<ol>\n",
    "<li>중복된 원소가 있을 수 있습니다. ex : (2, 3, 1, 2)</li>\n",
    "<li>원소에 정해진 순서가 있으며, 원소의 순서가 다르면 서로 다른 튜플입니다. ex : (1, 2, 3) ≠ (1, 3, 2)</li>\n",
    "<li>튜플의 원소 개수는 유한합니다.</li>\n",
    "</ol>\n",
    "\n",
    "<p>원소의 개수가 n개이고, <u><strong>중복되는 원소가 없는</strong></u> 튜플 <code>(a1, a2, a3, ..., an)</code>이 주어질 때(단, a1, a2, ..., an은 자연수), 이는 다음과 같이 집합 기호 '{', '}'를 이용해 표현할 수 있습니다.</p>\n",
    "\n",
    "<ul>\n",
    "<li>{{a1}, {a1, a2}, {a1, a2, a3}, {a1, a2, a3, a4}, ... {a1, a2, a3, a4, ..., an}}</li>\n",
    "</ul>\n",
    "\n",
    "<p>예를 들어 튜플이 (2, 1, 3, 4)인 경우 이는</p>\n",
    "\n",
    "<ul>\n",
    "<li>{{2}, {2, 1}, {2, 1, 3}, {2, 1, 3, 4}}</li>\n",
    "</ul>\n",
    "\n",
    "<p>와 같이 표현할 수 있습니다. 이때, 집합은 원소의 순서가 바뀌어도 상관없으므로</p>\n",
    "\n",
    "<ul>\n",
    "<li>{{2}, {2, 1}, {2, 1, 3}, {2, 1, 3, 4}}</li>\n",
    "<li>{{2, 1, 3, 4}, {2}, {2, 1, 3}, {2, 1}}</li>\n",
    "<li>{{1, 2, 3}, {2, 1}, {1, 2, 4, 3}, {2}}</li>\n",
    "</ul>\n",
    "\n",
    "<p>는 모두 같은 튜플 (2, 1, 3, 4)를 나타냅니다.</p>\n",
    "\n",
    "<p>특정 튜플을 표현하는 집합이 담긴 문자열 s가 매개변수로 주어질 때, s가 표현하는 튜플을 배열에 담아 return 하도록 solution 함수를 완성해주세요.</p>\n",
    "\n",
    "<h4><strong>[제한사항]</strong></h4>\n",
    "\n",
    "<ul>\n",
    "<li>s의 길이는 5 이상 1,000,000 이하입니다.</li>\n",
    "<li>s는 숫자와 '{', '}', ',' 로만 이루어져 있습니다.</li>\n",
    "<li>숫자가 0으로 시작하는 경우는 없습니다.</li>\n",
    "<li>s는 항상 중복되는 원소가 없는 튜플을 올바르게 표현하고 있습니다.</li>\n",
    "<li>s가 표현하는 튜플의 원소는 1 이상 100,000 이하인 자연수입니다.</li>\n",
    "<li>return 하는 배열의 길이가 1 이상 500 이하인 경우만 입력으로 주어집니다.</li>\n",
    "</ul>\n",
    "\n",
    "<hr>\n",
    "\n",
    "<h5><strong>[입출력 예]</strong></h5>\n",
    "<table class=\"table\">\n",
    "        <thead><tr>\n",
    "<th>s</th>\n",
    "<th>result</th>\n",
    "</tr>\n",
    "</thead>\n",
    "        <tbody><tr>\n",
    "<td><code>&quot;{{2},{2,1},{2,1,3},{2,1,3,4}}&quot;</code></td>\n",
    "<td>[2, 1, 3, 4]</td>\n",
    "</tr>\n",
    "<tr>\n",
    "<td><code>&quot;{{1,2,3},{2,1},{1,2,4,3},{2}}&quot;</code></td>\n",
    "<td>[2, 1, 3, 4]</td>\n",
    "</tr>\n",
    "<tr>\n",
    "<td><code>&quot;{{20,111},{111}}&quot;</code></td>\n",
    "<td>[111, 20]</td>\n",
    "</tr>\n",
    "<tr>\n",
    "<td><code>&quot;{{123}}&quot;</code></td>\n",
    "<td>[123]</td>\n",
    "</tr>\n",
    "<tr>\n",
    "<td><code>&quot;{{4,2,3},{3},{2,3,4,1},{2,3}}&quot;</code></td>\n",
    "<td>[3, 2, 4, 1]</td>\n",
    "</tr>\n",
    "</tbody>\n",
    "      </table>\n",
    "<h5><strong>입출력 예에 대한 설명</strong></h5>\n",
    "\n",
    "<h5><strong>입출력 예 #1</strong></h5>\n",
    "\n",
    "<p>문제 예시와 같습니다.</p>\n",
    "\n",
    "<h5><strong>입출력 예 #2</strong></h5>\n",
    "\n",
    "<p>문제 예시와 같습니다.</p>\n",
    "\n",
    "<h5><strong>입출력 예 #3</strong></h5>\n",
    "\n",
    "<p>(111, 20)을 집합 기호를 이용해 표현하면 {{111}, {111,20}}이 되며, 이는 {{20,111},{111}}과 같습니다.</p>\n",
    "\n",
    "<h5><strong>입출력 예 #4</strong></h5>\n",
    "\n",
    "<p>(123)을 집합 기호를 이용해 표현하면 {{123}} 입니다.</p>\n",
    "\n",
    "<h5><strong>입출력 예 #5</strong></h5>\n",
    "\n",
    "<p>(3, 2, 4, 1)을 집합 기호를 이용해 표현하면 {{3},{3,2},{3,2,4},{3,2,4,1}}이 되며, 이는 {{4,2,3},{3},{2,3,4,1},{2,3}}과 같습니다.</p>\n",
    "</div>"
   ]
  },
  {
   "cell_type": "code",
   "execution_count": 137,
   "metadata": {},
   "outputs": [
    {
     "data": {
      "text/plain": [
       "[3, 2, 4, 111]"
      ]
     },
     "execution_count": 137,
     "metadata": {},
     "output_type": "execute_result"
    }
   ],
   "source": [
    "from collections import deque\n",
    "s = '{{3},{3,2},{3,2,4},{3,2,4,111}}'\n",
    "def solution(s):\n",
    "    s = s[:-2].replace('{','').replace(',',' ').split('}')\n",
    "    result = [] \n",
    "    for i in s:\n",
    "        result.append(i.split())\n",
    "\n",
    "    result.sort(key = lambda x : -len(x))\n",
    "    answer = [] \n",
    "    for i in range(len(result)-1):\n",
    "        a = list(set(result[i]) - set(result[i+1]))[0]\n",
    "        answer.append(int(a))\n",
    "    answer.append(int(result[-1][0]))\n",
    "    answer.reverse()\n",
    "    return answer\n",
    "solution(s)"
   ]
  },
  {
   "cell_type": "code",
   "execution_count": 118,
   "metadata": {},
   "outputs": [
    {
     "data": {
      "text/plain": [
       "{'2'}"
      ]
     },
     "execution_count": 118,
     "metadata": {},
     "output_type": "execute_result"
    }
   ],
   "source": [
    "set(['3', '2'])-set(['3'])"
   ]
  },
  {
   "cell_type": "code",
   "execution_count": 155,
   "metadata": {},
   "outputs": [
    {
     "name": "stdout",
     "output_type": "stream",
     "text": [
      "Counter({'3': 4, '2': 3, '4': 2, '111': 1})\n"
     ]
    },
    {
     "data": {
      "text/plain": [
       "[3, 2, 4, 111]"
      ]
     },
     "execution_count": 155,
     "metadata": {},
     "output_type": "execute_result"
    }
   ],
   "source": [
    "s = '{{3},{3,2},{3,2,4},{3,2,4,111}}'\n",
    "from collections import Counter\n",
    "import re \n",
    "\n",
    "def solution(s):\n",
    "    s = Counter(re.findall('\\d+', s))\n",
    "    return [int(k) for k,v in sorted(s.items(), key = lambda x : -x[1])]"
   ]
  },
  {
   "cell_type": "code",
   "execution_count": 157,
   "metadata": {},
   "outputs": [
    {
     "data": {
      "text/plain": [
       "[3, 2, 4, 111]"
      ]
     },
     "execution_count": 157,
     "metadata": {},
     "output_type": "execute_result"
    }
   ],
   "source": [
    "s = '{{3},{3,2},{3,2,4},{3,2,4,111}}'\n",
    "s = Counter(re.findall('\\d+', s))\n",
    "list(map(int,[int(k) for k,v in sorted(s.items(), key = lambda x : -x[1])]))"
   ]
  }
 ],
 "metadata": {
  "kernelspec": {
   "display_name": "base",
   "language": "python",
   "name": "python3"
  },
  "language_info": {
   "codemirror_mode": {
    "name": "ipython",
    "version": 3
   },
   "file_extension": ".py",
   "mimetype": "text/x-python",
   "name": "python",
   "nbconvert_exporter": "python",
   "pygments_lexer": "ipython3",
   "version": "3.9.6"
  }
 },
 "nbformat": 4,
 "nbformat_minor": 2
}
